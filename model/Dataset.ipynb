{
 "cells": [
  {
   "cell_type": "code",
   "execution_count": 1,
   "metadata": {},
   "outputs": [
    {
     "name": "stderr",
     "output_type": "stream",
     "text": [
      "C:\\Users\\Admin\\anaconda3\\lib\\site-packages\\numpy\\_distributor_init.py:30: UserWarning: loaded more than 1 DLL from .libs:\n",
      "C:\\Users\\Admin\\anaconda3\\lib\\site-packages\\numpy\\.libs\\libopenblas.FB5AE2TYXYH2IJRDKGDGQ3XBKLKTF43H.gfortran-win_amd64.dll\n",
      "C:\\Users\\Admin\\anaconda3\\lib\\site-packages\\numpy\\.libs\\libopenblas.QVLO2T66WEPI7JZ63PS3HMOHFEY472BC.gfortran-win_amd64.dll\n",
      "  warnings.warn(\"loaded more than 1 DLL from .libs:\"\n",
      "C:\\Users\\Admin\\anaconda3\\lib\\site-packages\\scipy\\__init__.py:146: UserWarning: A NumPy version >=1.16.5 and <1.23.0 is required for this version of SciPy (detected version 1.23.2\n",
      "  warnings.warn(f\"A NumPy version >={np_minversion} and <{np_maxversion}\"\n"
     ]
    }
   ],
   "source": [
    "import pandas as pd\n",
    "import seaborn as sns\n",
    "import matplotlib.pyplot as plt\n",
    "import numpy as np"
   ]
  },
  {
   "cell_type": "code",
   "execution_count": 2,
   "metadata": {},
   "outputs": [],
   "source": [
    "plt.rcParams[\"figure.figsize\"] = (10,5)"
   ]
  },
  {
   "cell_type": "code",
   "execution_count": 3,
   "metadata": {},
   "outputs": [],
   "source": [
    "train = pd.read_csv('stressed.csv')"
   ]
  },
  {
   "cell_type": "code",
   "execution_count": 4,
   "metadata": {},
   "outputs": [
    {
     "data": {
      "text/plain": [
       "(213, 14)"
      ]
     },
     "execution_count": 4,
     "metadata": {},
     "output_type": "execute_result"
    }
   ],
   "source": [
    "train.shape"
   ]
  },
  {
   "cell_type": "code",
   "execution_count": 5,
   "metadata": {},
   "outputs": [
    {
     "data": {
      "text/html": [
       "<div>\n",
       "<style scoped>\n",
       "    .dataframe tbody tr th:only-of-type {\n",
       "        vertical-align: middle;\n",
       "    }\n",
       "\n",
       "    .dataframe tbody tr th {\n",
       "        vertical-align: top;\n",
       "    }\n",
       "\n",
       "    .dataframe thead th {\n",
       "        text-align: right;\n",
       "    }\n",
       "</style>\n",
       "<table border=\"1\" class=\"dataframe\">\n",
       "  <thead>\n",
       "    <tr style=\"text-align: right;\">\n",
       "      <th></th>\n",
       "      <th>Gender</th>\n",
       "      <th>financial_issues</th>\n",
       "      <th>family_issues</th>\n",
       "      <th>study_hours</th>\n",
       "      <th>health_issues</th>\n",
       "      <th>friends_issues</th>\n",
       "      <th>friends_time</th>\n",
       "      <th>overload</th>\n",
       "      <th>unpleasant</th>\n",
       "      <th>academic</th>\n",
       "      <th>career</th>\n",
       "      <th>criticism</th>\n",
       "      <th>conflicts</th>\n",
       "      <th>stress_level</th>\n",
       "    </tr>\n",
       "  </thead>\n",
       "  <tbody>\n",
       "    <tr>\n",
       "      <th>0</th>\n",
       "      <td>Male</td>\n",
       "      <td>Deadline of Fee payment;Payment for Hostel</td>\n",
       "      <td>Parental Expectations</td>\n",
       "      <td>2</td>\n",
       "      <td>Sleeping Problem;Concentration Problem</td>\n",
       "      <td>None</td>\n",
       "      <td>5</td>\n",
       "      <td>No</td>\n",
       "      <td>Yes</td>\n",
       "      <td>Yes</td>\n",
       "      <td>Yes</td>\n",
       "      <td>Yes</td>\n",
       "      <td>No</td>\n",
       "      <td>Stressed</td>\n",
       "    </tr>\n",
       "    <tr>\n",
       "      <th>1</th>\n",
       "      <td>Male</td>\n",
       "      <td>Deadline of Fee payment</td>\n",
       "      <td>Parental Expectations</td>\n",
       "      <td>2</td>\n",
       "      <td>Anxiety or Tension</td>\n",
       "      <td>Mistrust</td>\n",
       "      <td>1</td>\n",
       "      <td>No</td>\n",
       "      <td>No</td>\n",
       "      <td>No</td>\n",
       "      <td>No</td>\n",
       "      <td>No</td>\n",
       "      <td>Yes</td>\n",
       "      <td>Stressed</td>\n",
       "    </tr>\n",
       "    <tr>\n",
       "      <th>2</th>\n",
       "      <td>Male</td>\n",
       "      <td>Deadline of Fee payment;Payment for Hostel</td>\n",
       "      <td>Parental Expectations</td>\n",
       "      <td>4</td>\n",
       "      <td>Insomnia (Sleep Deprivation);Low Energy;Anxiet...</td>\n",
       "      <td>None</td>\n",
       "      <td>10</td>\n",
       "      <td>Yes</td>\n",
       "      <td>Yes</td>\n",
       "      <td>Yes</td>\n",
       "      <td>No</td>\n",
       "      <td>Yes</td>\n",
       "      <td>Yes</td>\n",
       "      <td>Stressed</td>\n",
       "    </tr>\n",
       "    <tr>\n",
       "      <th>3</th>\n",
       "      <td>Male</td>\n",
       "      <td>Repay Loan Issues</td>\n",
       "      <td>Parental Expectations</td>\n",
       "      <td>5</td>\n",
       "      <td>Concentration Problem</td>\n",
       "      <td>Mistrust</td>\n",
       "      <td>10</td>\n",
       "      <td>No</td>\n",
       "      <td>Yes</td>\n",
       "      <td>Yes</td>\n",
       "      <td>Yes</td>\n",
       "      <td>Yes</td>\n",
       "      <td>Yes</td>\n",
       "      <td>Stressed</td>\n",
       "    </tr>\n",
       "    <tr>\n",
       "      <th>4</th>\n",
       "      <td>Male</td>\n",
       "      <td>Repay Loan Issues;Deadline of Fee payment</td>\n",
       "      <td>Parental Expectations;Poor Communication and m...</td>\n",
       "      <td>4</td>\n",
       "      <td>Sinus or Migraine or Headaches;Insomnia (Sleep...</td>\n",
       "      <td>Jealousy</td>\n",
       "      <td>1</td>\n",
       "      <td>Yes</td>\n",
       "      <td>Yes</td>\n",
       "      <td>Yes</td>\n",
       "      <td>Yes</td>\n",
       "      <td>No</td>\n",
       "      <td>Yes</td>\n",
       "      <td>Stressed</td>\n",
       "    </tr>\n",
       "  </tbody>\n",
       "</table>\n",
       "</div>"
      ],
      "text/plain": [
       "  Gender                            financial_issues  \\\n",
       "0   Male  Deadline of Fee payment;Payment for Hostel   \n",
       "1   Male                     Deadline of Fee payment   \n",
       "2   Male  Deadline of Fee payment;Payment for Hostel   \n",
       "3   Male                           Repay Loan Issues   \n",
       "4   Male   Repay Loan Issues;Deadline of Fee payment   \n",
       "\n",
       "                                       family_issues  study_hours  \\\n",
       "0                              Parental Expectations            2   \n",
       "1                              Parental Expectations            2   \n",
       "2                              Parental Expectations            4   \n",
       "3                              Parental Expectations            5   \n",
       "4  Parental Expectations;Poor Communication and m...            4   \n",
       "\n",
       "                                       health_issues friends_issues  \\\n",
       "0             Sleeping Problem;Concentration Problem           None   \n",
       "1                                 Anxiety or Tension       Mistrust   \n",
       "2  Insomnia (Sleep Deprivation);Low Energy;Anxiet...           None   \n",
       "3                              Concentration Problem       Mistrust   \n",
       "4  Sinus or Migraine or Headaches;Insomnia (Sleep...       Jealousy   \n",
       "\n",
       "   friends_time overload unpleasant academic career criticism conflicts  \\\n",
       "0             5       No        Yes      Yes    Yes       Yes        No   \n",
       "1             1       No         No       No     No        No       Yes   \n",
       "2            10      Yes        Yes      Yes     No       Yes       Yes   \n",
       "3            10       No        Yes      Yes    Yes       Yes       Yes   \n",
       "4             1      Yes        Yes      Yes    Yes        No       Yes   \n",
       "\n",
       "  stress_level  \n",
       "0     Stressed  \n",
       "1     Stressed  \n",
       "2     Stressed  \n",
       "3     Stressed  \n",
       "4     Stressed  "
      ]
     },
     "execution_count": 5,
     "metadata": {},
     "output_type": "execute_result"
    }
   ],
   "source": [
    "train.head()"
   ]
  },
  {
   "cell_type": "code",
   "execution_count": 6,
   "metadata": {},
   "outputs": [
    {
     "data": {
      "text/plain": [
       "Gender              object\n",
       "financial_issues    object\n",
       "family_issues       object\n",
       "study_hours          int64\n",
       "health_issues       object\n",
       "friends_issues      object\n",
       "friends_time         int64\n",
       "overload            object\n",
       "unpleasant          object\n",
       "academic            object\n",
       "career              object\n",
       "criticism           object\n",
       "conflicts           object\n",
       "stress_level        object\n",
       "dtype: object"
      ]
     },
     "execution_count": 6,
     "metadata": {},
     "output_type": "execute_result"
    }
   ],
   "source": [
    "train.dtypes"
   ]
  },
  {
   "cell_type": "markdown",
   "metadata": {},
   "source": [
    "<b>Check quality of data</b>"
   ]
  },
  {
   "cell_type": "code",
   "execution_count": 7,
   "metadata": {},
   "outputs": [
    {
     "data": {
      "text/plain": [
       "Index([], dtype='object')"
      ]
     },
     "execution_count": 7,
     "metadata": {},
     "output_type": "execute_result"
    }
   ],
   "source": [
    "#Check for null values\n",
    "train.columns[train.isnull().any()]"
   ]
  },
  {
   "cell_type": "code",
   "execution_count": 8,
   "metadata": {},
   "outputs": [
    {
     "data": {
      "text/plain": [
       "array(['Stressed', 'Highly Stressed', 'Normal'], dtype=object)"
      ]
     },
     "execution_count": 8,
     "metadata": {},
     "output_type": "execute_result"
    }
   ],
   "source": [
    "train['stress_level'].unique()"
   ]
  },
  {
   "cell_type": "code",
   "execution_count": 9,
   "metadata": {},
   "outputs": [
    {
     "data": {
      "text/plain": [
       "array(['Stressed', 'Highly Stressed', 'Normal'], dtype=object)"
      ]
     },
     "execution_count": 9,
     "metadata": {},
     "output_type": "execute_result"
    }
   ],
   "source": [
    "train['stress_level'].unique()"
   ]
  },
  {
   "cell_type": "code",
   "execution_count": 10,
   "metadata": {},
   "outputs": [
    {
     "data": {
      "text/plain": [
       "Gender              object\n",
       "financial_issues    object\n",
       "family_issues       object\n",
       "study_hours          int64\n",
       "health_issues       object\n",
       "friends_issues      object\n",
       "friends_time         int64\n",
       "overload            object\n",
       "unpleasant          object\n",
       "academic            object\n",
       "career              object\n",
       "criticism           object\n",
       "conflicts           object\n",
       "stress_level        object\n",
       "dtype: object"
      ]
     },
     "execution_count": 10,
     "metadata": {},
     "output_type": "execute_result"
    }
   ],
   "source": [
    "train.dtypes"
   ]
  },
  {
   "cell_type": "code",
   "execution_count": 11,
   "metadata": {},
   "outputs": [
    {
     "name": "stderr",
     "output_type": "stream",
     "text": [
      "C:\\Users\\Admin\\anaconda3\\lib\\site-packages\\seaborn\\distributions.py:2619: FutureWarning: `distplot` is a deprecated function and will be removed in a future version. Please adapt your code to use either `displot` (a figure-level function with similar flexibility) or `histplot` (an axes-level function for histograms).\n",
      "  warnings.warn(msg, FutureWarning)\n"
     ]
    },
    {
     "data": {
      "text/plain": [
       "<AxesSubplot:xlabel='friends_time', ylabel='Density'>"
      ]
     },
     "execution_count": 11,
     "metadata": {},
     "output_type": "execute_result"
    },
    {
     "data": {
      "image/png": "[encoded data removed]",
      "text/plain": [
       "<Figure size 720x360 with 1 Axes>"
      ]
     },
     "metadata": {
      "needs_background": "light"
     },
     "output_type": "display_data"
    }
   ],
   "source": [
    "sns.distplot(train['friends_time'])"
   ]
  },
  {
   "cell_type": "code",
   "execution_count": 12,
   "metadata": {},
   "outputs": [
    {
     "data": {
      "text/plain": [
       "<AxesSubplot:xlabel='Gender', ylabel='count'>"
      ]
     },
     "execution_count": 12,
     "metadata": {},
     "output_type": "execute_result"
    },
    {
     "data": {
      "image/png": "[encoded data removed]",
      "text/plain": [
       "<Figure size 720x360 with 1 Axes>"
      ]
     },
     "metadata": {
      "needs_background": "light"
     },
     "output_type": "display_data"
    }
   ],
   "source": [
    "sns.countplot(x=train['Gender'], data=train)"
   ]
  },
  {
   "cell_type": "code",
   "execution_count": 13,
   "metadata": {},
   "outputs": [
    {
     "data": {
      "text/plain": [
       "<AxesSubplot:xlabel='stress_level', ylabel='count'>"
      ]
     },
     "execution_count": 13,
     "metadata": {},
     "output_type": "execute_result"
    },
    {
     "data": {
      "image/png": "[encoded data removed]",
      "text/plain": [
       "<Figure size 720x360 with 1 Axes>"
      ]
     },
     "metadata": {
      "needs_background": "light"
     },
     "output_type": "display_data"
    }
   ],
   "source": [
    "sns.countplot(x=train['stress_level'], data=train)"
   ]
  },
  {
   "cell_type": "code",
   "execution_count": 14,
   "metadata": {},
   "outputs": [
    {
     "data": {
      "text/plain": [
       "<AxesSubplot:xlabel='conflicts', ylabel='count'>"
      ]
     },
     "execution_count": 14,
     "metadata": {},
     "output_type": "execute_result"
    },
    {
     "data": {
      "image/png": "[encoded data removed]",
      "text/plain": [
       "<Figure size 720x360 with 1 Axes>"
      ]
     },
     "metadata": {
      "needs_background": "light"
     },
     "output_type": "display_data"
    }
   ],
   "source": [
    "sns.countplot(x=train['conflicts'], data=train)"
   ]
  },
  {
   "cell_type": "code",
   "execution_count": 15,
   "metadata": {},
   "outputs": [
    {
     "data": {
      "text/plain": [
       "<AxesSubplot:xlabel='criticism', ylabel='count'>"
      ]
     },
     "execution_count": 15,
     "metadata": {},
     "output_type": "execute_result"
    },
    {
     "data": {
      "image/png": "[encoded data removed]",
      "text/plain": [
       "<Figure size 720x360 with 1 Axes>"
      ]
     },
     "metadata": {
      "needs_background": "light"
     },
     "output_type": "display_data"
    }
   ],
   "source": [
    "sns.countplot(x=train['criticism'], data=train)"
   ]
  },
  {
   "cell_type": "code",
   "execution_count": 16,
   "metadata": {},
   "outputs": [
    {
     "data": {
      "text/plain": [
       "<AxesSubplot:xlabel='career', ylabel='count'>"
      ]
     },
     "execution_count": 16,
     "metadata": {},
     "output_type": "execute_result"
    },
    {
     "data": {
      "image/png": "[encoded data removed]",
      "text/plain": [
       "<Figure size 720x360 with 1 Axes>"
      ]
     },
     "metadata": {
      "needs_background": "light"
     },
     "output_type": "display_data"
    }
   ],
   "source": [
    "sns.countplot(x=train['career'], data=train)"
   ]
  },
  {
   "cell_type": "code",
   "execution_count": 17,
   "metadata": {},
   "outputs": [
    {
     "data": {
      "text/plain": [
       "<AxesSubplot:xlabel='academic', ylabel='count'>"
      ]
     },
     "execution_count": 17,
     "metadata": {},
     "output_type": "execute_result"
    },
    {
     "data": {
      "image/png": "[encoded data removed]",
      "text/plain": [
       "<Figure size 720x360 with 1 Axes>"
      ]
     },
     "metadata": {
      "needs_background": "light"
     },
     "output_type": "display_data"
    }
   ],
   "source": [
    "sns.countplot(x=train['academic'], data=train)"
   ]
  },
  {
   "cell_type": "code",
   "execution_count": 18,
   "metadata": {},
   "outputs": [
    {
     "data": {
      "text/plain": [
       "<AxesSubplot:xlabel='unpleasant', ylabel='count'>"
      ]
     },
     "execution_count": 18,
     "metadata": {},
     "output_type": "execute_result"
    },
    {
     "data": {
      "image/png": "[encoded data removed]",
      "text/plain": [
       "<Figure size 720x360 with 1 Axes>"
      ]
     },
     "metadata": {
      "needs_background": "light"
     },
     "output_type": "display_data"
    }
   ],
   "source": [
    "sns.countplot(x=train['unpleasant'], data=train)"
   ]
  },
  {
   "cell_type": "code",
   "execution_count": 19,
   "metadata": {},
   "outputs": [
    {
     "data": {
      "text/plain": [
       "<AxesSubplot:xlabel='overload', ylabel='count'>"
      ]
     },
     "execution_count": 19,
     "metadata": {},
     "output_type": "execute_result"
    },
    {
     "data": {
      "image/png": "[encoded data removed]",
      "text/plain": [
       "<Figure size 720x360 with 1 Axes>"
      ]
     },
     "metadata": {
      "needs_background": "light"
     },
     "output_type": "display_data"
    }
   ],
   "source": [
    "sns.countplot(x=train['overload'], data=train)"
   ]
  },
  {
   "cell_type": "code",
   "execution_count": 20,
   "metadata": {},
   "outputs": [
    {
     "data": {
      "text/plain": [
       "<AxesSubplot:xlabel='overload', ylabel='count'>"
      ]
     },
     "execution_count": 20,
     "metadata": {},
     "output_type": "execute_result"
    },
    {
     "data": {
      "image/png": "[encoded data removed]",
      "text/plain": [
       "<Figure size 720x360 with 1 Axes>"
      ]
     },
     "metadata": {
      "needs_background": "light"
     },
     "output_type": "display_data"
    }
   ],
   "source": [
    "sns.countplot(x=train['overload'], data=train)"
   ]
  },
  {
   "cell_type": "code",
   "execution_count": 21,
   "metadata": {},
   "outputs": [
    {
     "data": {
      "text/plain": [
       "array(['Male', 'Female'], dtype=object)"
      ]
     },
     "execution_count": 21,
     "metadata": {},
     "output_type": "execute_result"
    }
   ],
   "source": [
    "train['Gender'].unique()"
   ]
  },
  {
   "cell_type": "code",
   "execution_count": 22,
   "metadata": {},
   "outputs": [],
   "source": [
    "train.loc[train['Gender']== \"Male\", 'Gender'] = 0\n",
    "train.loc[train['Gender'] == 'Female', 'Gender'] = 1"
   ]
  },
  {
   "cell_type": "code",
   "execution_count": 23,
   "metadata": {},
   "outputs": [],
   "source": [
    "import pandas as pd"
   ]
  },
  {
   "cell_type": "code",
   "execution_count": 24,
   "metadata": {},
   "outputs": [],
   "source": [
    "train.Gender = pd.to_numeric(train.Gender, errors='coerce')"
   ]
  },
  {
   "cell_type": "code",
   "execution_count": null,
   "metadata": {},
   "outputs": [],
   "source": []
  },
  {
   "cell_type": "code",
   "execution_count": 25,
   "metadata": {},
   "outputs": [
    {
     "data": {
      "text/plain": [
       "array(['Deadline of Fee payment;Payment for Hostel',\n",
       "       'Deadline of Fee payment', 'Repay Loan Issues',\n",
       "       'Repay Loan Issues;Deadline of Fee payment', 'Payment for Hostel',\n",
       "       'None', 'Repay Loan Issues;Payment for Hostel',\n",
       "       'Repay Loan Issues;Deadline of Fee payment;Payment for Hostel',\n",
       "       'Payment for room rent', 'Family loan'], dtype=object)"
      ]
     },
     "execution_count": 25,
     "metadata": {},
     "output_type": "execute_result"
    }
   ],
   "source": [
    "train['financial_issues'].unique()"
   ]
  },
  {
   "cell_type": "code",
   "execution_count": 26,
   "metadata": {},
   "outputs": [
    {
     "data": {
      "text/plain": [
       "(213,)"
      ]
     },
     "execution_count": 26,
     "metadata": {},
     "output_type": "execute_result"
    }
   ],
   "source": [
    "train['financial_issues'].shape"
   ]
  },
  {
   "cell_type": "code",
   "execution_count": 27,
   "metadata": {},
   "outputs": [],
   "source": [
    "train.loc[train['financial_issues'] == 'None', 'financial_issues'] = 0\n",
    "train.loc[train['financial_issues'] == 'Repay Loan Issues;Deadline of Fee payment', 'financial_issues'] = 1\n",
    "train.loc[train['financial_issues'] == 'Payment for Hostel', 'financial_issues'] = 2\n",
    "train.loc[train['financial_issues'] == 'Repay Loan Issues', 'financial_issues'] = 3\n",
    "train.loc[train['financial_issues'] == 'Deadline of Fee payment', 'financial_issues'] = 4\n",
    "train.loc[train['financial_issues'] == 'Deadline of Fee payment;Payment for Hostel', 'financial_issues'] = 5\n",
    "train.loc[train['financial_issues'] == 'Repay Loan Issues;Deadline of Fee payment;Payment for Hostel', 'financial_issues'] = 6\n",
    "train.loc[train['financial_issues'] == 'Payment for room rent', 'financial_issues'] = 7\n",
    "train.loc[train['financial_issues'] == 'Family loan', 'financial_issues'] = 8\n",
    "train.loc[train['financial_issues'] == 'Repay Loan Issues;Payment for Hostel', 'financial_issues'] = 9"
   ]
  },
  {
   "cell_type": "code",
   "execution_count": 28,
   "metadata": {},
   "outputs": [
    {
     "data": {
      "text/plain": [
       "array([5, 4, 3, 1, 2, 0, 9, 6, 7, 8], dtype=object)"
      ]
     },
     "execution_count": 28,
     "metadata": {},
     "output_type": "execute_result"
    }
   ],
   "source": [
    "train['financial_issues'].unique()"
   ]
  },
  {
   "cell_type": "code",
   "execution_count": 29,
   "metadata": {},
   "outputs": [],
   "source": [
    "train.financial_issues = pd.to_numeric(train.financial_issues, errors='coerce')"
   ]
  },
  {
   "cell_type": "code",
   "execution_count": 30,
   "metadata": {},
   "outputs": [
    {
     "data": {
      "text/plain": [
       "array(['Parental Expectations',\n",
       "       'Parental Expectations;Poor Communication and misunderstandings;Negligence of Children',\n",
       "       'Poor Communication and misunderstandings;Negligence of Children',\n",
       "       'None', 'Parental Expectations;Negligence of Children',\n",
       "       'Parental Expectations;Being bullied by siblings',\n",
       "       'Being bullied by siblings;Divorce of Parents;Poor Communication and misunderstandings',\n",
       "       'Parental Expectations;Being bullied by siblings;Divorce of Parents',\n",
       "       'Divorce of Parents;Negligence of Children',\n",
       "       'Divorce of Parents;Poor Communication and misunderstandings;Negligence of Children',\n",
       "       'Being bullied by siblings;Poor Communication and misunderstandings;Negligence of Children',\n",
       "       'Divorce of Parents;Poor Communication and misunderstandings',\n",
       "       'Parental Expectations;Divorce of Parents;Negligence of Children',\n",
       "       'Parental Expectations;Being bullied by siblings;Poor Communication and misunderstandings',\n",
       "       'Being bullied by siblings;Poor Communication and misunderstandings',\n",
       "       'Parental Expectations;Divorce of Parents',\n",
       "       'Being bullied by siblings;Negligence of Children',\n",
       "       'Being bullied by siblings;Divorce of Parents;Negligence of Children',\n",
       "       'Being bullied by siblings',\n",
       "       'Parental Expectations;Divorce of Parents;Poor Communication and misunderstandings',\n",
       "       'Parental Expectations;Poor Communication and misunderstandings',\n",
       "       'Divorce of Parents',\n",
       "       'Parental Expectations;Internal family dispute ',\n",
       "       'Poor Communication and misunderstandings',\n",
       "       'Parental Expectations;Being bullied by siblings;Divorce of Parents;Negligence of Children',\n",
       "       'Parental Expectations;Being bullied by siblings;Negligence of Children',\n",
       "       'Being bullied by siblings;Divorce of Parents',\n",
       "       'Parental Expectations;Being bullied by siblings;Divorce of Parents;Poor Communication and misunderstandings;Negligence of Children',\n",
       "       'Parental Expectations;Being bullied by siblings;Divorce of Parents;Poor Communication and misunderstandings',\n",
       "       'Internal family dispute', 'Poor Communication'], dtype=object)"
      ]
     },
     "execution_count": 30,
     "metadata": {},
     "output_type": "execute_result"
    }
   ],
   "source": [
    "train['family_issues'].unique()"
   ]
  },
  {
   "cell_type": "code",
   "execution_count": 31,
   "metadata": {},
   "outputs": [
    {
     "data": {
      "text/plain": [
       "(213,)"
      ]
     },
     "execution_count": 31,
     "metadata": {},
     "output_type": "execute_result"
    }
   ],
   "source": [
    "train['family_issues'].shape"
   ]
  },
  {
   "cell_type": "code",
   "execution_count": 32,
   "metadata": {},
   "outputs": [],
   "source": [
    "train.loc[train['family_issues'] == 'None', 'family_issues'] = 0\n",
    "train.loc[train['family_issues'] == 'Parental Expectations', 'family_issues'] = 1\n",
    "train.loc[train['family_issues'] == 'Parental Expectations;Poor Communication and misunderstandings', 'family_issues'] = 2\n",
    "train.loc[train['family_issues'] == 'Parental Expectations;Being bullied by siblings', 'family_issues'] = 3\n",
    "train.loc[train['family_issues'] == 'Poor Communication and misunderstandings', 'family_issues'] = 4\n",
    "train.loc[train['family_issues'] == 'Parental Expectations;Poor Communication and misunderstandings;Negligence of Children', 'family_issues'] = 5\n",
    "train.loc[train['family_issues'] == 'Parental Expectations;Internal family dispute ', 'family_issues'] = 6\n",
    "train.loc[train['family_issues'] == 'Poor Communication and misunderstandings;Negligence of Children', 'family_issues'] = 7\n",
    "train.loc[train['family_issues'] == 'Parental Expectations;Negligence of Children', 'family_issues'] = 8\n",
    "train.loc[train['family_issues'] == 'Negligence of Children', 'family_issues'] = 9\n",
    "train.loc[train['family_issues'] == 'Parental Expectations;Divorce of Parents', 'family_issues'] = 10\n",
    "train.loc[train['family_issues'] == 'Being bullied by siblings', 'family_issues'] = 11\n",
    "train.loc[train['family_issues'] == 'Divorce of Parents;Poor Communication and misunderstandings', 'family_issues'] = 12\n",
    "train.loc[train['family_issues'] == 'Being bullied by siblings;Divorce of Parents;Poor Communication and misunderstandings', 'family_issues'] = 13\n",
    "train.loc[train['family_issues'] == 'Parental Expectations;Being bullied by siblings;Divorce of Parents', 'family_issues'] = 14\n",
    "train.loc[train['family_issues'] == 'Divorce of Parents;Negligence of Children', 'family_issues'] = 15\n",
    "train.loc[train['family_issues'] == 'Divorce of Parents;Poor Communication and misunderstandings;Negligence of Children', 'family_issues'] = 16\n",
    "train.loc[train['family_issues'] == 'Being bullied by siblings;Poor Communication and misunderstandings;Negligence of Children', 'family_issues'] = 17\n",
    "train.loc[train['family_issues'] == 'Parental Expectations;Divorce of Parents;Negligence of Children', 'family_issues'] = 17\n",
    "train.loc[train['family_issues'] == 'Parental Expectations;Being bullied by siblings;Poor Communication and misunderstandings', 'family_issues'] = 19\n",
    "train.loc[train['family_issues'] == 'Being bullied by siblings;Poor Communication and misunderstandings', 'family_issues'] = 20\n",
    "train.loc[train['family_issues'] == 'Being bullied by siblings;Negligence of Children', 'family_issues'] = 21\n",
    "train.loc[train['family_issues'] == 'Being bullied by siblings;Divorce of Parents;Negligence of Children', 'family_issues'] = 22\n",
    "train.loc[train['family_issues'] == 'Parental Expectations;Divorce of Parents;Poor Communication and misunderstandings', 'family_issues'] = 23\n",
    "train.loc[train['family_issues'] == 'Parental Expectations;Being bullied by siblings;Divorce of Parents;Negligence of Children', 'family_issues'] = 24\n",
    "train.loc[train['family_issues'] == 'Parental Expectations;Being bullied by siblings;Negligence of Children', 'family_issues'] = 25\n",
    "train.loc[train['family_issues'] == 'Being bullied by siblings;Divorce of Parents', 'family_issues'] = 26\n",
    "train.loc[train['family_issues'] == 'Parental Expectations;Being bullied by siblings;Divorce of Parents;Poor Communication and misunderstandings;Negligence of Children', 'family_issues'] = 27\n",
    "train.loc[train['family_issues'] == 'Parental Expectations;Being bullied by siblings;Divorce of Parents;Poor Communication and misunderstandings', 'family_issues'] = 28\n",
    "train.loc[train['family_issues'] == 'Divorce of Parents', 'family_issues'] = 29\n",
    "train.loc[train['family_issues'] == 'Internal family dispute', 'family_issues'] = 30\n",
    "train.loc[train['family_issues'] == 'Poor Communication', 'family_issues'] = 31\n"
   ]
  },
  {
   "cell_type": "code",
   "execution_count": 33,
   "metadata": {},
   "outputs": [
    {
     "data": {
      "text/plain": [
       "array([1, 5, 7, 0, 8, 3, 13, 14, 15, 16, 17, 12, 19, 20, 10, 21, 22, 11,\n",
       "       23, 2, 29, 6, 4, 24, 25, 26, 27, 28, 30, 31], dtype=object)"
      ]
     },
     "execution_count": 33,
     "metadata": {},
     "output_type": "execute_result"
    }
   ],
   "source": [
    "train['family_issues'].unique()"
   ]
  },
  {
   "cell_type": "code",
   "execution_count": 34,
   "metadata": {},
   "outputs": [],
   "source": [
    "train.family_issues = pd.to_numeric(train.family_issues, errors='coerce')"
   ]
  },
  {
   "cell_type": "code",
   "execution_count": 35,
   "metadata": {},
   "outputs": [
    {
     "data": {
      "text/plain": [
       "array([ 2,  4,  5,  8,  1,  6,  3,  0,  9,  7, 10], dtype=int64)"
      ]
     },
     "execution_count": 35,
     "metadata": {},
     "output_type": "execute_result"
    }
   ],
   "source": [
    "train['study_hours'].unique()"
   ]
  },
  {
   "cell_type": "code",
   "execution_count": 36,
   "metadata": {},
   "outputs": [
    {
     "data": {
      "text/plain": [
       "array(['Sleeping Problem;Concentration Problem', 'Anxiety or Tension',\n",
       "       'Insomnia (Sleep Deprivation);Low Energy;Anxiety or Tension;Sleeping Problem;Concentration Problem',\n",
       "       'Concentration Problem',\n",
       "       'Sinus or Migraine or Headaches;Insomnia (Sleep Deprivation);Anxiety or Tension;Lonliness;Sleeping Problem;Concentration Problem',\n",
       "       'Anxiety or Tension;Sleeping Problem',\n",
       "       'Sinus or Migraine or Headaches;Low Energy;Anxiety or Tension;Lonliness;Concentration Problem',\n",
       "       'Insomnia (Sleep Deprivation);Low Energy;Anxiety or Tension;Concentration Problem',\n",
       "       'Sinus or Migraine or Headaches;Insomnia (Sleep Deprivation);Low Energy;Lonliness;Sleeping Problem;Concentration Problem',\n",
       "       'Insomnia (Sleep Deprivation);Low Energy;Anxiety or Tension;Lonliness;Sleeping Problem;Concentration Problem',\n",
       "       'Insomnia (Sleep Deprivation);Anxiety or Tension;Sleeping Problem',\n",
       "       'Insomnia (Sleep Deprivation);Low Energy;Anxiety or Tension;Lonliness',\n",
       "       'Sinus or Migraine or Headaches;Anxiety or Tension;Sleeping Problem',\n",
       "       'Sinus or Migraine or Headaches;Insomnia (Sleep Deprivation);Anxiety or Tension',\n",
       "       'Sinus or Migraine or Headaches;Covid;Low Energy;Sleeping Problem',\n",
       "       'Insomnia (Sleep Deprivation);Low Energy;Anxiety or Tension',\n",
       "       'Sinus or Migraine or Headaches;Covid;Insomnia (Sleep Deprivation);Low Energy',\n",
       "       'Malnutrition;Covid;Anxiety or Tension',\n",
       "       'Sinus or Migraine or Headaches;Anxiety or Tension',\n",
       "       'Malnutrition;Insomnia (Sleep Deprivation)',\n",
       "       'Covid;Anxiety or Tension;Concentration Problem',\n",
       "       'Insomnia (Sleep Deprivation);Anxiety or Tension;Lonliness',\n",
       "       'Insomnia (Sleep Deprivation);Anxiety or Tension', 'Low Energy',\n",
       "       'Sinus or Migraine or Headaches;Insomnia (Sleep Deprivation)',\n",
       "       'Insomnia (Sleep Deprivation);Lonliness',\n",
       "       'Insomnia (Sleep Deprivation);Anxiety or Tension;Concentration Problem',\n",
       "       'Covid;Low Energy;Lonliness', 'Malnutrition',\n",
       "       'Sinus or Migraine or Headaches;Low Energy;Lonliness',\n",
       "       'Malnutrition;Low Energy;Sleeping Problem',\n",
       "       'Covid;Anxiety or Tension',\n",
       "       'Sinus or Migraine or Headaches;Low Energy',\n",
       "       'Sinus or Migraine or Headaches;Covid;Insomnia (Sleep Deprivation);Sleeping Problem',\n",
       "       'Covid;Concentration Problem', 'Low Energy;Sleeping Problem',\n",
       "       'Sleeping Problem',\n",
       "       'Malnutrition;Sinus or Migraine or Headaches;Covid',\n",
       "       'Covid;Low Energy;Sleeping Problem',\n",
       "       'Covid;Anxiety or Tension;Sleeping Problem',\n",
       "       'Covid;Insomnia (Sleep Deprivation);Low Energy',\n",
       "       'Covid;Low Energy;Concentration Problem',\n",
       "       'Malnutrition;Anxiety or Tension;Sleeping Problem',\n",
       "       'Malnutrition;Insomnia (Sleep Deprivation);Low Energy;Anxiety or Tension',\n",
       "       'Malnutrition;Insomnia (Sleep Deprivation);Lonliness;Concentration Problem',\n",
       "       'Malnutrition;Covid;Lonliness',\n",
       "       'Malnutrition;Insomnia (Sleep Deprivation);Lonliness',\n",
       "       'Covid;Lonliness',\n",
       "       'Malnutrition;Insomnia (Sleep Deprivation);Sleeping Problem',\n",
       "       'Anxiety or Tension;Lonliness;Concentration Problem', 'Lonliness',\n",
       "       'Anxiety or Tension;Lonliness;Sleeping Problem;Concentration Problem',\n",
       "       'Sinus or Migraine or Headaches;Covid;Insomnia (Sleep Deprivation);Low Energy;Lonliness;Sleeping Problem;Concentration Problem',\n",
       "       'Insomnia (Sleep Deprivation);Anxiety or Tension;Lonliness;Concentration Problem',\n",
       "       'Covid;Insomnia (Sleep Deprivation);Anxiety or Tension;Sleeping Problem;Concentration Problem',\n",
       "       'Covid;Insomnia (Sleep Deprivation);Anxiety or Tension;Sleeping Problem',\n",
       "       'Sinus or Migraine or Headaches;Insomnia (Sleep Deprivation);Anxiety or Tension;Sleeping Problem',\n",
       "       'Sinus or Migraine or Headaches;Insomnia (Sleep Deprivation);Sleeping Problem',\n",
       "       'Low Energy;Lonliness',\n",
       "       'Sinus or Migraine or Headaches;Low Energy;Anxiety or Tension',\n",
       "       'Sinus or Migraine or Headaches;Insomnia (Sleep Deprivation);Lonliness',\n",
       "       'Insomnia (Sleep Deprivation);Low Energy',\n",
       "       'Sinus or Migraine or Headaches;Covid;Insomnia (Sleep Deprivation);Anxiety or Tension;Lonliness;Sleeping Problem;Concentration Problem',\n",
       "       'Malnutrition;Covid;Low Energy',\n",
       "       'Sinus or Migraine or Headaches;Insomnia (Sleep Deprivation);Lonliness;Concentration Problem',\n",
       "       'Covid;Low Energy;Anxiety or Tension',\n",
       "       'Covid;Insomnia (Sleep Deprivation);Low Energy;Sleeping Problem',\n",
       "       'Low Energy;Lonliness;Sleeping Problem',\n",
       "       'Sinus or Migraine or Headaches;Insomnia (Sleep Deprivation);Low Energy;Sleeping Problem',\n",
       "       'Covid;Low Energy;Lonliness;Sleeping Problem',\n",
       "       'Sinus or Migraine or Headaches;Insomnia (Sleep Deprivation);Low Energy',\n",
       "       'Malnutrition;Anxiety or Tension',\n",
       "       'Low Energy;Lonliness;Concentration Problem',\n",
       "       'Sinus or Migraine or Headaches;Covid;Low Energy;Anxiety or Tension',\n",
       "       'Covid;Insomnia (Sleep Deprivation);Low Energy;Anxiety or Tension;Lonliness;Sleeping Problem;Concentration Problem',\n",
       "       'Sinus or Migraine or Headaches;Covid;Insomnia (Sleep Deprivation);Concentration Problem',\n",
       "       'Malnutrition;Insomnia (Sleep Deprivation);Low Energy;Anxiety or Tension;Lonliness',\n",
       "       'Sinus or Migraine or Headaches;Covid;Insomnia (Sleep Deprivation);Low Energy;Lonliness',\n",
       "       'Covid;Insomnia (Sleep Deprivation)',\n",
       "       'Sinus or Migraine or Headaches;Covid;Anxiety or Tension',\n",
       "       'Covid;Lonliness;Sleeping Problem',\n",
       "       'Sinus or Migraine or Headaches;Low Energy;Sleeping Problem',\n",
       "       'Covid;Anxiety or Tension;Lonliness',\n",
       "       'Sinus or Migraine or Headaches;Lonliness',\n",
       "       'Sinus or Migraine or Headaches;Covid;Sleeping Problem',\n",
       "       'Low Energy;Anxiety or Tension;Concentration Problem',\n",
       "       'Sinus or Migraine or Headaches;Sleeping Problem',\n",
       "       'Covid;Low Energy;Anxiety or Tension;Sleeping Problem',\n",
       "       'Insomnia (Sleep Deprivation);Low Energy;Lonliness',\n",
       "       'Covid;Low Energy;Anxiety or Tension;Concentration Problem',\n",
       "       'Sinus or Migraine or Headaches', 'None'], dtype=object)"
      ]
     },
     "execution_count": 36,
     "metadata": {},
     "output_type": "execute_result"
    }
   ],
   "source": [
    "train['health_issues'].unique()"
   ]
  },
  {
   "cell_type": "code",
   "execution_count": 37,
   "metadata": {},
   "outputs": [],
   "source": [
    "# def features_to_points(col_data):\n",
    "#     for i,text in enumerate(col_data):\n",
    "#         splitted_text = text.split(';')\n",
    "        \n",
    "# features_to_points(train['health_issues'])"
   ]
  },
  {
   "cell_type": "code",
   "execution_count": 38,
   "metadata": {},
   "outputs": [],
   "source": [
    "train.loc[train['health_issues'] == 'None', 'health_issues'] = 0\n",
    "train.loc[train['health_issues'] == 'Anxiety or Tension', 'health_issues'] = 1\n",
    "train.loc[train['health_issues'] == 'Insomnia (Sleep Deprivation);Low Energy;Anxiety or Tension;Sleeping Problem;Concentration Problem', 'health_issues'] = 2\n",
    "train.loc[train['health_issues'] == 'Concentration Problem', 'health_issues'] = 3\n",
    "train.loc[train['health_issues'] == 'Sinus or Migraine or Headaches;Insomnia (Sleep Deprivation);Anxiety or Tension;Lonliness;Sleeping Problem;Concentration Problem', 'health_issues'] = 4\n",
    "train.loc[train['health_issues'] == 'Anxiety or Tension;Sleeping Problem', 'health_issues'] = 5\n",
    "train.loc[train['health_issues'] == 'Sinus or Migraine or Headaches;Low Energy;Anxiety or Tension;Lonliness;Concentration Problem', 'health_issues'] = 6\n",
    "train.loc[train['health_issues'] == 'Insomnia (Sleep Deprivation);Low Energy;Anxiety or Tension;Concentration Problem', 'health_issues'] = 7\n",
    "train.loc[train['health_issues'] == 'Sinus or Migraine or Headaches;Insomnia (Sleep Deprivation);Low Energy;Lonliness;Sleeping Problem;Concentration Problem', 'health_issues'] = 8\n",
    "train.loc[train['health_issues'] == 'Insomnia (Sleep Deprivation);Low Energy;Anxiety or Tension;Lonliness;Sleeping Problem;Concentration Problem', 'health_issues'] = 9\n",
    "train.loc[train['health_issues'] == 'Insomnia (Sleep Deprivation);Anxiety or Tension;Sleeping Problem', 'health_issues'] = 10\n",
    "train.loc[train['health_issues'] == 'Insomnia (Sleep Deprivation);Low Energy;Anxiety or Tension;Lonliness', 'health_issues'] = 11\n",
    "train.loc[train['health_issues'] == 'Sinus or Migraine or Headaches;Anxiety or Tension;Sleeping Problem', 'health_issues'] = 12\n",
    "train.loc[train['health_issues'] == 'Sinus or Migraine or Headaches;Insomnia (Sleep Deprivation);Anxiety or Tension', 'health_issues'] = 13\n",
    "train.loc[train['health_issues'] == 'Sinus or Migraine or Headaches;Covid;Low Energy;Sleeping Problem', 'health_issues'] = 14\n",
    "train.loc[train['health_issues'] == 'Insomnia (Sleep Deprivation);Low Energy;Anxiety or Tension', 'health_issues'] = 15\n",
    "train.loc[train['health_issues'] == 'Sinus or Migraine or Headaches;Covid;Insomnia (Sleep Deprivation);Low Energy', 'health_issues'] = 16\n",
    "train.loc[train['health_issues'] == 'Malnutrition;Covid;Anxiety or Tension', 'health_issues'] = 17\n",
    "train.loc[train['health_issues'] == 'Sinus or Migraine or Headaches;Anxiety or Tension', 'health_issues'] = 18\n",
    "train.loc[train['health_issues'] == 'Malnutrition;Insomnia (Sleep Deprivation)', 'health_issues'] = 19\n",
    "train.loc[train['health_issues'] == 'Covid;Anxiety or Tension;Concentration Problem', 'health_issues'] = 20\n",
    "train.loc[train['health_issues'] == 'Insomnia (Sleep Deprivation);Anxiety or Tension;Lonliness', 'health_issues'] = 21\n",
    "train.loc[train['health_issues'] == 'Insomnia (Sleep Deprivation);Anxiety or Tension', 'health_issues'] = 22\n",
    "train.loc[train['health_issues'] == 'Sinus or Migraine or Headaches;Insomnia (Sleep Deprivation)', 'health_issues'] = 23\n",
    "train.loc[train['health_issues'] == 'Insomnia (Sleep Deprivation);Lonliness', 'health_issues'] = 24\n",
    "train.loc[train['health_issues'] == 'Insomnia (Sleep Deprivation);Anxiety or Tension;Concentration Problem', 'health_issues'] = 25\n",
    "train.loc[train['health_issues'] == 'Covid;Low Energy;Lonliness', 'health_issues'] = 26\n",
    "train.loc[train['health_issues'] == 'Malnutrition', 'health_issues'] = 27\n",
    "train.loc[train['health_issues'] == 'Sinus or Migraine or Headaches;Low Energy;Lonliness', 'health_issues'] = 28\n",
    "train.loc[train['health_issues'] == 'Malnutrition;Low Energy;Sleeping Problem', 'health_issues'] = 29\n",
    "train.loc[train['health_issues'] == 'Covid;Anxiety or Tension', 'health_issues'] = 30\n",
    "train.loc[train['health_issues'] == 'Sinus or Migraine or Headaches;Low Energy', 'health_issues'] = 31\n",
    "train.loc[train['health_issues'] == 'Sinus or Migraine or Headaches;Covid;Insomnia (Sleep Deprivation);Sleeping Problem', 'health_issues'] = 32\n",
    "train.loc[train['health_issues'] == 'Covid;Concentration Problem', 'health_issues'] = 33\n",
    "train.loc[train['health_issues'] == 'Low Energy;Sleeping Problem', 'health_issues'] = 34\n",
    "train.loc[train['health_issues'] == 'Sleeping Problem', 'health_issues'] = 35\n",
    "train.loc[train['health_issues'] == 'Malnutrition;Sinus or Migraine or Headaches;Covid', 'health_issues'] = 36\n",
    "train.loc[train['health_issues'] == 'Covid;Low Energy;Sleeping Problem', 'health_issues'] = 37\n",
    "train.loc[train['health_issues'] == 'Covid;Anxiety or Tension;Sleeping Problem', 'health_issues'] = 38\n",
    "train.loc[train['health_issues'] == 'Covid;Insomnia (Sleep Deprivation);Low Energy', 'health_issues'] = 39\n",
    "train.loc[train['health_issues'] == 'Covid;Low Energy;Concentration Problem', 'health_issues'] = 40\n",
    "train.loc[train['health_issues'] == 'Malnutrition;Anxiety or Tension;Sleeping Problem', 'health_issues'] = 41\n",
    "train.loc[train['health_issues'] == 'Malnutrition;Insomnia (Sleep Deprivation);Low Energy;Anxiety or Tension', 'health_issues'] = 42\n",
    "train.loc[train['health_issues'] == 'Malnutrition;Insomnia (Sleep Deprivation);Lonliness;Concentration Problem', 'health_issues'] = 43\n",
    "train.loc[train['health_issues'] == 'Malnutrition;Covid;Lonliness', 'health_issues'] = 44\n",
    "train.loc[train['health_issues'] == 'Malnutrition;Insomnia (Sleep Deprivation);Lonliness', 'health_issues'] = 45\n",
    "train.loc[train['health_issues'] == 'Covid;Lonliness', 'health_issues'] = 46\n",
    "train.loc[train['health_issues'] == 'Malnutrition;Insomnia (Sleep Deprivation);Sleeping Problem', 'health_issues'] = 47\n",
    "train.loc[train['health_issues'] == 'Anxiety or Tension;Lonliness;Concentration Problem', 'health_issues'] = 48\n",
    "train.loc[train['health_issues'] == 'Lonliness', 'health_issues'] = 49\n",
    "train.loc[train['health_issues'] == 'Anxiety or Tension;Lonliness;Sleeping Problem;Concentration Problem', 'health_issues'] = 50\n",
    "train.loc[train['health_issues'] == 'Sinus or Migraine or Headaches;Covid;Insomnia (Sleep Deprivation);Low Energy;Lonliness;Sleeping Problem;Concentration Problem', 'health_issues'] = 51\n",
    "train.loc[train['health_issues'] == 'Insomnia (Sleep Deprivation);Anxiety or Tension;Lonliness;Concentration Problem', 'health_issues'] = 52\n",
    "train.loc[train['health_issues'] == 'Covid;Insomnia (Sleep Deprivation);Anxiety or Tension;Sleeping Problem;Concentration Problem', 'health_issues'] = 53\n",
    "train.loc[train['health_issues'] == 'Covid;Insomnia (Sleep Deprivation);Anxiety or Tension;Sleeping Problem', 'health_issues'] = 54\n",
    "train.loc[train['health_issues'] == 'Sinus or Migraine or Headaches;Insomnia (Sleep Deprivation);Anxiety or Tension;Sleeping Problem', 'health_issues'] = 55\n",
    "train.loc[train['health_issues'] == 'Sinus or Migraine or Headaches;Insomnia (Sleep Deprivation);Sleeping Problem', 'health_issues'] = 56\n",
    "train.loc[train['health_issues'] == 'Low Energy;Lonliness', 'health_issues'] = 57\n",
    "train.loc[train['health_issues'] == 'Sinus or Migraine or Headaches;Low Energy;Anxiety or Tension', 'health_issues'] = 58\n",
    "train.loc[train['health_issues'] == 'Sinus or Migraine or Headaches;Insomnia (Sleep Deprivation);Lonliness', 'health_issues'] = 59\n",
    "train.loc[train['health_issues'] == 'Insomnia (Sleep Deprivation);Low Energy', 'health_issues'] = 60\n",
    "train.loc[train['health_issues'] == 'Sinus or Migraine or Headaches;Covid;Insomnia (Sleep Deprivation);Anxiety or Tension;Lonliness;Sleeping Problem;Concentration Problem', 'health_issues'] = 61\n",
    "train.loc[train['health_issues'] == 'Malnutrition;Covid;Low Energy', 'health_issues'] = 62\n",
    "train.loc[train['health_issues'] == 'Sinus or Migraine or Headaches;Insomnia (Sleep Deprivation);Lonliness;Concentration Problem', 'health_issues'] = 63\n",
    "train.loc[train['health_issues'] == 'Covid;Low Energy;Anxiety or Tension', 'health_issues'] = 64\n",
    "train.loc[train['health_issues'] == 'Covid;Insomnia (Sleep Deprivation);Low Energy;Sleeping Problem', 'health_issues'] = 65\n",
    "train.loc[train['health_issues'] == 'Low Energy;Lonliness;Sleeping Problem', 'health_issues'] = 66\n",
    "train.loc[train['health_issues'] == 'Sinus or Migraine or Headaches;Insomnia (Sleep Deprivation);Low Energy;Sleeping Problem', 'health_issues'] = 67\n",
    "train.loc[train['health_issues'] == 'Covid;Low Energy;Lonliness;Sleeping Problem', 'health_issues'] = 68\n",
    "train.loc[train['health_issues'] == 'Sinus or Migraine or Headaches;Insomnia (Sleep Deprivation);Low Energy', 'health_issues'] = 69\n",
    "train.loc[train['health_issues'] == 'Malnutrition;Anxiety or Tension', 'health_issues'] = 70\n",
    "train.loc[train['health_issues'] == 'Low Energy;Lonliness;Concentration Problem', 'health_issues'] = 71\n",
    "train.loc[train['health_issues'] == 'Sinus or Migraine or Headaches;Covid;Low Energy;Anxiety or Tension', 'health_issues'] = 72\n",
    "train.loc[train['health_issues'] == 'Covid;Insomnia (Sleep Deprivation);Low Energy;Anxiety or Tension;Lonliness;Sleeping Problem;Concentration Problem', 'health_issues'] = 73\n",
    "train.loc[train['health_issues'] == 'Sinus or Migraine or Headaches;Covid;Insomnia (Sleep Deprivation);Concentration Problem', 'health_issues'] = 74\n",
    "train.loc[train['health_issues'] == 'Malnutrition;Insomnia (Sleep Deprivation);Low Energy;Anxiety or Tension;Lonliness', 'health_issues'] = 75\n",
    "train.loc[train['health_issues'] == 'Sinus or Migraine or Headaches;Covid;Insomnia (Sleep Deprivation);Low Energy;Lonliness', 'health_issues'] = 76\n",
    "train.loc[train['health_issues'] == 'Covid;Insomnia (Sleep Deprivation)', 'health_issues'] = 77\n",
    "train.loc[train['health_issues'] == 'Sinus or Migraine or Headaches;Covid;Anxiety or Tension', 'health_issues'] = 78\n",
    "train.loc[train['health_issues'] == 'Covid;Lonliness;Sleeping Problem', 'health_issues'] = 79\n",
    "train.loc[train['health_issues'] == 'Sinus or Migraine or Headaches;Low Energy;Sleeping Problem', 'health_issues'] = 80\n",
    "train.loc[train['health_issues'] == 'Covid;Anxiety or Tension;Lonliness', 'health_issues'] = 81\n",
    "train.loc[train['health_issues'] == 'Sinus or Migraine or Headaches;Lonliness', 'health_issues'] = 82\n",
    "train.loc[train['health_issues'] == 'Sinus or Migraine or Headaches;Covid;Sleeping Problem', 'health_issues'] = 83\n",
    "train.loc[train['health_issues'] == 'Low Energy;Anxiety or Tension;Concentration Problem', 'health_issues'] = 84\n",
    "train.loc[train['health_issues'] == 'Sinus or Migraine or Headaches;Sleeping Problem', 'health_issues'] = 85\n",
    "train.loc[train['health_issues'] == 'Covid;Low Energy;Anxiety or Tension;Sleeping Problem', 'health_issues'] = 86\n",
    "train.loc[train['health_issues'] == 'Insomnia (Sleep Deprivation);Low Energy;Lonliness', 'health_issues'] = 87\n",
    "train.loc[train['health_issues'] == 'Covid;Low Energy;Anxiety or Tension;Concentration Problem', 'health_issues'] = 88\n",
    "train.loc[train['health_issues'] == 'Sinus or Migraine or Headaches', 'health_issues'] = 89\n",
    " "
   ]
  },
  {
   "cell_type": "code",
   "execution_count": 39,
   "metadata": {},
   "outputs": [
    {
     "data": {
      "text/plain": [
       "array(['Sleeping Problem;Concentration Problem', 1, 2, 3, 4, 5, 6, 7, 8,\n",
       "       9, 10, 11, 12, 13, 14, 15, 16, 17, 18, 19, 20, 21, 22,\n",
       "       'Low Energy', 23, 24, 25, 26, 27, 28, 29, 30, 31, 32, 33, 34, 35,\n",
       "       36, 37, 38, 39, 40, 41, 42, 43, 44, 45, 46, 47, 48, 49, 50, 51, 52,\n",
       "       53, 54, 55, 56, 57, 58, 59, 60, 61, 62, 63, 64, 65, 66, 67, 68, 69,\n",
       "       70, 71, 72, 73, 74, 75, 76, 77, 78, 79, 80, 81, 82, 83, 84, 85, 86,\n",
       "       87, 88, 89, 0], dtype=object)"
      ]
     },
     "execution_count": 39,
     "metadata": {},
     "output_type": "execute_result"
    }
   ],
   "source": [
    "train['health_issues'].unique()"
   ]
  },
  {
   "cell_type": "code",
   "execution_count": 40,
   "metadata": {},
   "outputs": [],
   "source": [
    "train.loc[train['health_issues'] == 'Sleeping Problem;Concentration Problem', 'health_issues'] = 90\n",
    "train.loc[train['health_issues'] == 'Low Energy', 'health_issues'] = 91"
   ]
  },
  {
   "cell_type": "code",
   "execution_count": 41,
   "metadata": {},
   "outputs": [
    {
     "data": {
      "text/plain": [
       "array([90, 1, 2, 3, 4, 5, 6, 7, 8, 9, 10, 11, 12, 13, 14, 15, 16, 17, 18,\n",
       "       19, 20, 21, 22, 91, 23, 24, 25, 26, 27, 28, 29, 30, 31, 32, 33, 34,\n",
       "       35, 36, 37, 38, 39, 40, 41, 42, 43, 44, 45, 46, 47, 48, 49, 50, 51,\n",
       "       52, 53, 54, 55, 56, 57, 58, 59, 60, 61, 62, 63, 64, 65, 66, 67, 68,\n",
       "       69, 70, 71, 72, 73, 74, 75, 76, 77, 78, 79, 80, 81, 82, 83, 84, 85,\n",
       "       86, 87, 88, 89, 0], dtype=object)"
      ]
     },
     "execution_count": 41,
     "metadata": {},
     "output_type": "execute_result"
    }
   ],
   "source": [
    "train['health_issues'].unique()"
   ]
  },
  {
   "cell_type": "code",
   "execution_count": 42,
   "metadata": {},
   "outputs": [],
   "source": [
    "train.health_issues = pd.to_numeric(train.health_issues, errors='coerce')"
   ]
  },
  {
   "cell_type": "code",
   "execution_count": 43,
   "metadata": {},
   "outputs": [
    {
     "data": {
      "text/plain": [
       "array(['None', 'Mistrust', 'Jealousy', 'Comparison between them',\n",
       "       'Conflicts;Comparison between them;Mistrust',\n",
       "       'Comparison between them;lack of deep communication',\n",
       "       'Conflicts;Comparison between them',\n",
       "       'Comparison between them;Jealousy',\n",
       "       'Comparison between them;Mistrust', 'Jealousy;Mistrust',\n",
       "       'Conflicts;Comparison between them;Jealousy',\n",
       "       'Comparison between them;Jealousy;Mistrust',\n",
       "       'Conflicts;Jealousy;Betrayal', 'Jealousy;Betrayal', 'Conflicts',\n",
       "       'Comparison between them;Betrayal', 'Mistrust;Betrayal',\n",
       "       'Conflicts;Mistrust', 'Betrayal',\n",
       "       'Conflicts;Comparison between them;Jealousy;Mistrust;Betrayal',\n",
       "       'Jealousy;Mistrust;Betrayal', 'Conflicts;Jealousy',\n",
       "       'Comparison between them;Jealousy;Betrayal',\n",
       "       'Comparison between them;Mistrust;Betrayal',\n",
       "       'Conflicts;Jealousy;Mistrust',\n",
       "       'Conflicts;Comparison between them;Betrayal',\n",
       "       'Comparison between them;Jealousy;Mistrust;Betrayal',\n",
       "       'Conflicts;Jealousy;Mistrust;Betrayal', 'none'], dtype=object)"
      ]
     },
     "execution_count": 43,
     "metadata": {},
     "output_type": "execute_result"
    }
   ],
   "source": [
    "train['friends_issues'].unique()"
   ]
  },
  {
   "cell_type": "code",
   "execution_count": 44,
   "metadata": {},
   "outputs": [
    {
     "data": {
      "text/plain": [
       "(213,)"
      ]
     },
     "execution_count": 44,
     "metadata": {},
     "output_type": "execute_result"
    }
   ],
   "source": [
    "train['friends_issues'].shape"
   ]
  },
  {
   "cell_type": "code",
   "execution_count": 45,
   "metadata": {},
   "outputs": [],
   "source": [
    "train.loc[train['friends_issues'] == 'None', 'friends_issues'] = 0\n",
    "train.loc[train['friends_issues'] == 'none', 'friends_issues'] = 0\n",
    "train.loc[train['friends_issues'] == 'Comparison between them', 'friends_issues'] = 1\n",
    "train.loc[train['friends_issues'] == 'Mistrust', 'friends_issues'] = 2\n",
    "train.loc[train['friends_issues'] == 'Jealousy;Mistrust', 'friends_issues'] = 3\n",
    "train.loc[train['friends_issues'] == 'Betrayal', 'friends_issues'] = 4\n",
    "train.loc[train['friends_issues'] == 'Comparison between them;Jealousy', 'friends_issues'] = 5\n",
    "train.loc[train['friends_issues'] == 'Conflicts', 'friends_issues'] = 6\n",
    "train.loc[train['friends_issues'] == 'Conflicts;Comparison between them;Betrayal', 'friends_issues'] = 7\n",
    "train.loc[train['friends_issues'] == 'Jealousy', 'friends_issues'] = 8\n",
    "train.loc[train['friends_issues'] == 'Comparison between them;Mistrust', 'friends_issues'] = 9\n",
    "train.loc[train['friends_issues'] == 'Conflicts;Comparison between them;Jealousy', 'friends_issues'] = 10\n",
    "train.loc[train['friends_issues'] == 'Conflicts;Comparison between them;Mistrust', 'friends_issues'] = 11\n",
    "train.loc[train['friends_issues'] == 'Comparison between them;lack of deep communication', 'friends_issues'] = 12\n",
    "train.loc[train['friends_issues'] == 'friendly', 'friends_issues'] = 13\n",
    "train.loc[train['friends_issues'] == 'Jealousy;Betrayal', 'friends_issues'] = 14\n",
    "train.loc[train['friends_issues'] == 'Conflicts;Jealousy', 'friends_issues'] = 15\n",
    "train.loc[train['friends_issues'] == 'Conflicts;Comparison between them', 'friends_issues'] = 16\n",
    "train.loc[train['friends_issues'] == 'Comparison between them;Jealousy;Mistrust', 'friends_issues'] = 17\n",
    "train.loc[train['friends_issues'] == 'Conflicts;Jealousy;Betrayal', 'friends_issues'] = 18\n",
    "train.loc[train['friends_issues'] == 'Comparison between them;Betrayal', 'friends_issues'] = 19\n",
    "train.loc[train['friends_issues'] == 'Mistrust;Betrayal', 'friends_issues'] = 20\n",
    "train.loc[train['friends_issues'] == 'Conflicts;Comparison between them;Jealousy;Mistrust;Betrayal', 'friends_issues'] = 21\n",
    "train.loc[train['friends_issues'] == 'Jealousy;Mistrust;Betrayal', 'friends_issues'] = 22\n",
    "train.loc[train['friends_issues'] == 'Conflicts;Mistrust', 'friends_issues'] = 23\n",
    "train.loc[train['friends_issues'] == 'Comparison between them;Jealousy;Betrayal', 'friends_issues'] = 24\n",
    "train.loc[train['friends_issues'] == 'Comparison between them;Mistrust;Betrayal', 'friends_issues'] = 25\n",
    "train.loc[train['friends_issues'] == 'Conflicts;Jealousy;Mistrust', 'friends_issues'] = 26\n",
    "train.loc[train['friends_issues'] == 'Comparison between them;Jealousy;Mistrust;Betrayal', 'friends_issues'] = 27\n",
    "train.loc[train['friends_issues'] == 'Conflicts;Jealousy;Mistrust;Betrayal', 'friends_issues'] = 28\n",
    "\n"
   ]
  },
  {
   "cell_type": "code",
   "execution_count": 46,
   "metadata": {},
   "outputs": [
    {
     "data": {
      "text/plain": [
       "array([0, 2, 8, 1, 11, 12, 16, 5, 9, 3, 10, 17, 18, 14, 6, 19, 20, 23, 4,\n",
       "       21, 22, 15, 24, 25, 26, 7, 27, 28], dtype=object)"
      ]
     },
     "execution_count": 46,
     "metadata": {},
     "output_type": "execute_result"
    }
   ],
   "source": [
    "train['friends_issues'].unique()"
   ]
  },
  {
   "cell_type": "code",
   "execution_count": 47,
   "metadata": {},
   "outputs": [],
   "source": [
    "train.friends_issues = pd.to_numeric(train.friends_issues, errors='coerce')"
   ]
  },
  {
   "cell_type": "code",
   "execution_count": 48,
   "metadata": {},
   "outputs": [
    {
     "data": {
      "text/plain": [
       "array([ 5,  1, 10,  6,  2,  8,  3,  4,  9,  7], dtype=int64)"
      ]
     },
     "execution_count": 48,
     "metadata": {},
     "output_type": "execute_result"
    }
   ],
   "source": [
    "train['friends_time'].unique()"
   ]
  },
  {
   "cell_type": "code",
   "execution_count": 49,
   "metadata": {},
   "outputs": [
    {
     "data": {
      "text/plain": [
       "array(['No', 'Yes'], dtype=object)"
      ]
     },
     "execution_count": 49,
     "metadata": {},
     "output_type": "execute_result"
    }
   ],
   "source": [
    "train['overload'].unique()"
   ]
  },
  {
   "cell_type": "code",
   "execution_count": 50,
   "metadata": {},
   "outputs": [],
   "source": [
    "train.loc[train['overload'] == 'No', 'overload'] = 0\n",
    "train.loc[train['overload'] == 'Yes', 'overload'] = 1\n",
    "\n"
   ]
  },
  {
   "cell_type": "code",
   "execution_count": 51,
   "metadata": {},
   "outputs": [
    {
     "data": {
      "text/plain": [
       "array(['Yes', 'No'], dtype=object)"
      ]
     },
     "execution_count": 51,
     "metadata": {},
     "output_type": "execute_result"
    }
   ],
   "source": [
    "train['unpleasant'].unique()"
   ]
  },
  {
   "cell_type": "code",
   "execution_count": 52,
   "metadata": {},
   "outputs": [],
   "source": [
    "train.loc[train['unpleasant'] == 'No', 'unpleasant'] = 0\n",
    "train.loc[train['unpleasant'] == 'Yes', 'unpleasant'] = 1"
   ]
  },
  {
   "cell_type": "code",
   "execution_count": 53,
   "metadata": {},
   "outputs": [
    {
     "data": {
      "text/plain": [
       "array([1, 0], dtype=object)"
      ]
     },
     "execution_count": 53,
     "metadata": {},
     "output_type": "execute_result"
    }
   ],
   "source": [
    "train['unpleasant'].unique()"
   ]
  },
  {
   "cell_type": "code",
   "execution_count": 54,
   "metadata": {},
   "outputs": [
    {
     "data": {
      "text/plain": [
       "0      1\n",
       "1      0\n",
       "2      1\n",
       "3      1\n",
       "4      1\n",
       "      ..\n",
       "208    0\n",
       "209    0\n",
       "210    0\n",
       "211    0\n",
       "212    0\n",
       "Name: unpleasant, Length: 213, dtype: int64"
      ]
     },
     "execution_count": 54,
     "metadata": {},
     "output_type": "execute_result"
    }
   ],
   "source": [
    "train['unpleasant'].astype('int64')"
   ]
  },
  {
   "cell_type": "code",
   "execution_count": 55,
   "metadata": {},
   "outputs": [],
   "source": [
    "train.loc[train['academic'] == 'No', 'academic'] = 0\n",
    "train.loc[train['academic'] == 'Yes', 'academic'] = 1"
   ]
  },
  {
   "cell_type": "code",
   "execution_count": 56,
   "metadata": {},
   "outputs": [
    {
     "data": {
      "text/plain": [
       "0      1\n",
       "1      0\n",
       "2      1\n",
       "3      1\n",
       "4      1\n",
       "      ..\n",
       "208    0\n",
       "209    0\n",
       "210    0\n",
       "211    0\n",
       "212    0\n",
       "Name: academic, Length: 213, dtype: Int64"
      ]
     },
     "execution_count": 56,
     "metadata": {},
     "output_type": "execute_result"
    }
   ],
   "source": [
    "train['academic'].astype('Int64')"
   ]
  },
  {
   "cell_type": "code",
   "execution_count": 57,
   "metadata": {},
   "outputs": [
    {
     "data": {
      "text/plain": [
       "array(['Yes', 'No'], dtype=object)"
      ]
     },
     "execution_count": 57,
     "metadata": {},
     "output_type": "execute_result"
    }
   ],
   "source": [
    "train['career'].unique()"
   ]
  },
  {
   "cell_type": "code",
   "execution_count": 58,
   "metadata": {},
   "outputs": [],
   "source": [
    "train.loc[train['career'] == 'No', 'career'] = 0\n",
    "train.loc[train['career'] == 'Yes', 'career'] = 1"
   ]
  },
  {
   "cell_type": "code",
   "execution_count": 59,
   "metadata": {},
   "outputs": [
    {
     "data": {
      "text/plain": [
       "0      1\n",
       "1      0\n",
       "2      0\n",
       "3      1\n",
       "4      1\n",
       "      ..\n",
       "208    0\n",
       "209    0\n",
       "210    0\n",
       "211    0\n",
       "212    0\n",
       "Name: career, Length: 213, dtype: Int64"
      ]
     },
     "execution_count": 59,
     "metadata": {},
     "output_type": "execute_result"
    }
   ],
   "source": [
    "train['career'].astype('Int64')"
   ]
  },
  {
   "cell_type": "code",
   "execution_count": 60,
   "metadata": {},
   "outputs": [
    {
     "data": {
      "text/plain": [
       "array(['Yes', 'No'], dtype=object)"
      ]
     },
     "execution_count": 60,
     "metadata": {},
     "output_type": "execute_result"
    }
   ],
   "source": [
    "train['criticism'].unique()"
   ]
  },
  {
   "cell_type": "code",
   "execution_count": 61,
   "metadata": {},
   "outputs": [],
   "source": [
    "train.loc[train['criticism'] == 'No', 'criticism'] = 0\n",
    "train.loc[train['criticism'] == 'Yes', 'criticism'] = 1"
   ]
  },
  {
   "cell_type": "code",
   "execution_count": 62,
   "metadata": {},
   "outputs": [
    {
     "data": {
      "text/plain": [
       "0      1\n",
       "1      0\n",
       "2      1\n",
       "3      1\n",
       "4      0\n",
       "      ..\n",
       "208    0\n",
       "209    0\n",
       "210    0\n",
       "211    0\n",
       "212    0\n",
       "Name: criticism, Length: 213, dtype: Int64"
      ]
     },
     "execution_count": 62,
     "metadata": {},
     "output_type": "execute_result"
    }
   ],
   "source": [
    "train['criticism'].astype('Int64')"
   ]
  },
  {
   "cell_type": "code",
   "execution_count": 63,
   "metadata": {},
   "outputs": [
    {
     "data": {
      "text/plain": [
       "array(['No', 'Yes'], dtype=object)"
      ]
     },
     "execution_count": 63,
     "metadata": {},
     "output_type": "execute_result"
    }
   ],
   "source": [
    "train['conflicts'].unique()"
   ]
  },
  {
   "cell_type": "code",
   "execution_count": 64,
   "metadata": {},
   "outputs": [],
   "source": [
    "train.loc[train['conflicts'] == 'No', 'conflicts'] = 0\n",
    "train.loc[train['conflicts'] == 'Yes', 'conflicts'] = 1"
   ]
  },
  {
   "cell_type": "code",
   "execution_count": 65,
   "metadata": {},
   "outputs": [
    {
     "data": {
      "text/plain": [
       "0      0\n",
       "1      1\n",
       "2      1\n",
       "3      1\n",
       "4      1\n",
       "      ..\n",
       "208    0\n",
       "209    0\n",
       "210    0\n",
       "211    0\n",
       "212    0\n",
       "Name: conflicts, Length: 213, dtype: Int64"
      ]
     },
     "execution_count": 65,
     "metadata": {},
     "output_type": "execute_result"
    }
   ],
   "source": [
    "train['conflicts'].astype('Int64')"
   ]
  },
  {
   "cell_type": "code",
   "execution_count": 66,
   "metadata": {},
   "outputs": [
    {
     "data": {
      "text/plain": [
       "array(['Stressed', 'Highly Stressed', 'Normal'], dtype=object)"
      ]
     },
     "execution_count": 66,
     "metadata": {},
     "output_type": "execute_result"
    }
   ],
   "source": [
    "train['stress_level'].unique()"
   ]
  },
  {
   "cell_type": "code",
   "execution_count": 67,
   "metadata": {},
   "outputs": [],
   "source": [
    "train.loc[train['stress_level'] == 'Normal', 'stress_level'] = 0\n",
    "train.loc[train['stress_level'] == 'Stressed', 'stress_level'] = 1\n",
    "train.loc[train['stress_level'] == 'Highly Stressed', 'stress_level'] = 2"
   ]
  },
  {
   "cell_type": "code",
   "execution_count": 68,
   "metadata": {},
   "outputs": [
    {
     "data": {
      "text/plain": [
       "0      1\n",
       "1      1\n",
       "2      1\n",
       "3      1\n",
       "4      1\n",
       "      ..\n",
       "208    0\n",
       "209    0\n",
       "210    0\n",
       "211    0\n",
       "212    0\n",
       "Name: stress_level, Length: 213, dtype: Int64"
      ]
     },
     "execution_count": 68,
     "metadata": {},
     "output_type": "execute_result"
    }
   ],
   "source": [
    "train['stress_level'].astype('Int64')"
   ]
  },
  {
   "cell_type": "code",
   "execution_count": 69,
   "metadata": {},
   "outputs": [],
   "source": [
    "train.overload = pd.to_numeric(train.overload, errors='coerce')\n",
    "train.stress_level = pd.to_numeric(train.stress_level, errors='coerce')\n",
    "train.conflicts = pd.to_numeric(train.conflicts, errors='coerce')\n",
    "train.criticism = pd.to_numeric(train.criticism, errors='coerce')\n",
    "train.career = pd.to_numeric(train.career, errors='coerce')\n",
    "train.academic = pd.to_numeric(train.academic, errors='coerce')\n",
    "train.unpleasant = pd.to_numeric(train.unpleasant, errors='coerce')"
   ]
  },
  {
   "cell_type": "code",
   "execution_count": 70,
   "metadata": {},
   "outputs": [
    {
     "data": {
      "text/html": [
       "<div>\n",
       "<style scoped>\n",
       "    .dataframe tbody tr th:only-of-type {\n",
       "        vertical-align: middle;\n",
       "    }\n",
       "\n",
       "    .dataframe tbody tr th {\n",
       "        vertical-align: top;\n",
       "    }\n",
       "\n",
       "    .dataframe thead th {\n",
       "        text-align: right;\n",
       "    }\n",
       "</style>\n",
       "<table border=\"1\" class=\"dataframe\">\n",
       "  <thead>\n",
       "    <tr style=\"text-align: right;\">\n",
       "      <th></th>\n",
       "      <th>Gender</th>\n",
       "      <th>financial_issues</th>\n",
       "      <th>family_issues</th>\n",
       "      <th>study_hours</th>\n",
       "      <th>health_issues</th>\n",
       "      <th>friends_issues</th>\n",
       "      <th>friends_time</th>\n",
       "      <th>overload</th>\n",
       "      <th>unpleasant</th>\n",
       "      <th>academic</th>\n",
       "      <th>career</th>\n",
       "      <th>criticism</th>\n",
       "      <th>conflicts</th>\n",
       "      <th>stress_level</th>\n",
       "    </tr>\n",
       "  </thead>\n",
       "  <tbody>\n",
       "    <tr>\n",
       "      <th>0</th>\n",
       "      <td>0</td>\n",
       "      <td>5</td>\n",
       "      <td>1</td>\n",
       "      <td>2</td>\n",
       "      <td>90</td>\n",
       "      <td>0</td>\n",
       "      <td>5</td>\n",
       "      <td>0</td>\n",
       "      <td>1</td>\n",
       "      <td>1</td>\n",
       "      <td>1</td>\n",
       "      <td>1</td>\n",
       "      <td>0</td>\n",
       "      <td>1</td>\n",
       "    </tr>\n",
       "    <tr>\n",
       "      <th>1</th>\n",
       "      <td>0</td>\n",
       "      <td>4</td>\n",
       "      <td>1</td>\n",
       "      <td>2</td>\n",
       "      <td>1</td>\n",
       "      <td>2</td>\n",
       "      <td>1</td>\n",
       "      <td>0</td>\n",
       "      <td>0</td>\n",
       "      <td>0</td>\n",
       "      <td>0</td>\n",
       "      <td>0</td>\n",
       "      <td>1</td>\n",
       "      <td>1</td>\n",
       "    </tr>\n",
       "    <tr>\n",
       "      <th>2</th>\n",
       "      <td>0</td>\n",
       "      <td>5</td>\n",
       "      <td>1</td>\n",
       "      <td>4</td>\n",
       "      <td>2</td>\n",
       "      <td>0</td>\n",
       "      <td>10</td>\n",
       "      <td>1</td>\n",
       "      <td>1</td>\n",
       "      <td>1</td>\n",
       "      <td>0</td>\n",
       "      <td>1</td>\n",
       "      <td>1</td>\n",
       "      <td>1</td>\n",
       "    </tr>\n",
       "    <tr>\n",
       "      <th>3</th>\n",
       "      <td>0</td>\n",
       "      <td>3</td>\n",
       "      <td>1</td>\n",
       "      <td>5</td>\n",
       "      <td>3</td>\n",
       "      <td>2</td>\n",
       "      <td>10</td>\n",
       "      <td>0</td>\n",
       "      <td>1</td>\n",
       "      <td>1</td>\n",
       "      <td>1</td>\n",
       "      <td>1</td>\n",
       "      <td>1</td>\n",
       "      <td>1</td>\n",
       "    </tr>\n",
       "    <tr>\n",
       "      <th>4</th>\n",
       "      <td>0</td>\n",
       "      <td>1</td>\n",
       "      <td>5</td>\n",
       "      <td>4</td>\n",
       "      <td>4</td>\n",
       "      <td>8</td>\n",
       "      <td>1</td>\n",
       "      <td>1</td>\n",
       "      <td>1</td>\n",
       "      <td>1</td>\n",
       "      <td>1</td>\n",
       "      <td>0</td>\n",
       "      <td>1</td>\n",
       "      <td>1</td>\n",
       "    </tr>\n",
       "    <tr>\n",
       "      <th>...</th>\n",
       "      <td>...</td>\n",
       "      <td>...</td>\n",
       "      <td>...</td>\n",
       "      <td>...</td>\n",
       "      <td>...</td>\n",
       "      <td>...</td>\n",
       "      <td>...</td>\n",
       "      <td>...</td>\n",
       "      <td>...</td>\n",
       "      <td>...</td>\n",
       "      <td>...</td>\n",
       "      <td>...</td>\n",
       "      <td>...</td>\n",
       "      <td>...</td>\n",
       "    </tr>\n",
       "    <tr>\n",
       "      <th>208</th>\n",
       "      <td>1</td>\n",
       "      <td>0</td>\n",
       "      <td>0</td>\n",
       "      <td>4</td>\n",
       "      <td>0</td>\n",
       "      <td>0</td>\n",
       "      <td>6</td>\n",
       "      <td>0</td>\n",
       "      <td>0</td>\n",
       "      <td>0</td>\n",
       "      <td>0</td>\n",
       "      <td>0</td>\n",
       "      <td>0</td>\n",
       "      <td>0</td>\n",
       "    </tr>\n",
       "    <tr>\n",
       "      <th>209</th>\n",
       "      <td>1</td>\n",
       "      <td>0</td>\n",
       "      <td>0</td>\n",
       "      <td>3</td>\n",
       "      <td>0</td>\n",
       "      <td>0</td>\n",
       "      <td>8</td>\n",
       "      <td>0</td>\n",
       "      <td>0</td>\n",
       "      <td>0</td>\n",
       "      <td>0</td>\n",
       "      <td>0</td>\n",
       "      <td>0</td>\n",
       "      <td>0</td>\n",
       "    </tr>\n",
       "    <tr>\n",
       "      <th>210</th>\n",
       "      <td>1</td>\n",
       "      <td>0</td>\n",
       "      <td>0</td>\n",
       "      <td>2</td>\n",
       "      <td>0</td>\n",
       "      <td>0</td>\n",
       "      <td>10</td>\n",
       "      <td>0</td>\n",
       "      <td>0</td>\n",
       "      <td>0</td>\n",
       "      <td>0</td>\n",
       "      <td>0</td>\n",
       "      <td>0</td>\n",
       "      <td>0</td>\n",
       "    </tr>\n",
       "    <tr>\n",
       "      <th>211</th>\n",
       "      <td>1</td>\n",
       "      <td>0</td>\n",
       "      <td>0</td>\n",
       "      <td>1</td>\n",
       "      <td>0</td>\n",
       "      <td>0</td>\n",
       "      <td>7</td>\n",
       "      <td>0</td>\n",
       "      <td>0</td>\n",
       "      <td>0</td>\n",
       "      <td>0</td>\n",
       "      <td>0</td>\n",
       "      <td>0</td>\n",
       "      <td>0</td>\n",
       "    </tr>\n",
       "    <tr>\n",
       "      <th>212</th>\n",
       "      <td>1</td>\n",
       "      <td>0</td>\n",
       "      <td>0</td>\n",
       "      <td>8</td>\n",
       "      <td>0</td>\n",
       "      <td>0</td>\n",
       "      <td>6</td>\n",
       "      <td>0</td>\n",
       "      <td>0</td>\n",
       "      <td>0</td>\n",
       "      <td>0</td>\n",
       "      <td>0</td>\n",
       "      <td>0</td>\n",
       "      <td>0</td>\n",
       "    </tr>\n",
       "  </tbody>\n",
       "</table>\n",
       "<p>213 rows × 14 columns</p>\n",
       "</div>"
      ],
      "text/plain": [
       "     Gender  financial_issues  family_issues  study_hours  health_issues  \\\n",
       "0         0                 5              1            2             90   \n",
       "1         0                 4              1            2              1   \n",
       "2         0                 5              1            4              2   \n",
       "3         0                 3              1            5              3   \n",
       "4         0                 1              5            4              4   \n",
       "..      ...               ...            ...          ...            ...   \n",
       "208       1                 0              0            4              0   \n",
       "209       1                 0              0            3              0   \n",
       "210       1                 0              0            2              0   \n",
       "211       1                 0              0            1              0   \n",
       "212       1                 0              0            8              0   \n",
       "\n",
       "     friends_issues  friends_time  overload  unpleasant  academic  career  \\\n",
       "0                 0             5         0           1         1       1   \n",
       "1                 2             1         0           0         0       0   \n",
       "2                 0            10         1           1         1       0   \n",
       "3                 2            10         0           1         1       1   \n",
       "4                 8             1         1           1         1       1   \n",
       "..              ...           ...       ...         ...       ...     ...   \n",
       "208               0             6         0           0         0       0   \n",
       "209               0             8         0           0         0       0   \n",
       "210               0            10         0           0         0       0   \n",
       "211               0             7         0           0         0       0   \n",
       "212               0             6         0           0         0       0   \n",
       "\n",
       "     criticism  conflicts  stress_level  \n",
       "0            1          0             1  \n",
       "1            0          1             1  \n",
       "2            1          1             1  \n",
       "3            1          1             1  \n",
       "4            0          1             1  \n",
       "..         ...        ...           ...  \n",
       "208          0          0             0  \n",
       "209          0          0             0  \n",
       "210          0          0             0  \n",
       "211          0          0             0  \n",
       "212          0          0             0  \n",
       "\n",
       "[213 rows x 14 columns]"
      ]
     },
     "execution_count": 70,
     "metadata": {},
     "output_type": "execute_result"
    }
   ],
   "source": [
    "train"
   ]
  },
  {
   "cell_type": "code",
   "execution_count": 71,
   "metadata": {},
   "outputs": [],
   "source": [
    "train.health_issues = pd.to_numeric(train.health_issues, errors='coerce')"
   ]
  },
  {
   "cell_type": "code",
   "execution_count": 72,
   "metadata": {},
   "outputs": [
    {
     "data": {
      "text/html": [
       "<div>\n",
       "<style scoped>\n",
       "    .dataframe tbody tr th:only-of-type {\n",
       "        vertical-align: middle;\n",
       "    }\n",
       "\n",
       "    .dataframe tbody tr th {\n",
       "        vertical-align: top;\n",
       "    }\n",
       "\n",
       "    .dataframe thead th {\n",
       "        text-align: right;\n",
       "    }\n",
       "</style>\n",
       "<table border=\"1\" class=\"dataframe\">\n",
       "  <thead>\n",
       "    <tr style=\"text-align: right;\">\n",
       "      <th></th>\n",
       "      <th>Gender</th>\n",
       "      <th>financial_issues</th>\n",
       "      <th>family_issues</th>\n",
       "      <th>study_hours</th>\n",
       "      <th>health_issues</th>\n",
       "      <th>friends_issues</th>\n",
       "      <th>friends_time</th>\n",
       "      <th>overload</th>\n",
       "      <th>unpleasant</th>\n",
       "      <th>academic</th>\n",
       "      <th>career</th>\n",
       "      <th>criticism</th>\n",
       "      <th>conflicts</th>\n",
       "      <th>stress_level</th>\n",
       "    </tr>\n",
       "  </thead>\n",
       "  <tbody>\n",
       "    <tr>\n",
       "      <th>0</th>\n",
       "      <td>0</td>\n",
       "      <td>5</td>\n",
       "      <td>1</td>\n",
       "      <td>2</td>\n",
       "      <td>90</td>\n",
       "      <td>0</td>\n",
       "      <td>5</td>\n",
       "      <td>0</td>\n",
       "      <td>1</td>\n",
       "      <td>1</td>\n",
       "      <td>1</td>\n",
       "      <td>1</td>\n",
       "      <td>0</td>\n",
       "      <td>1</td>\n",
       "    </tr>\n",
       "    <tr>\n",
       "      <th>1</th>\n",
       "      <td>0</td>\n",
       "      <td>4</td>\n",
       "      <td>1</td>\n",
       "      <td>2</td>\n",
       "      <td>1</td>\n",
       "      <td>2</td>\n",
       "      <td>1</td>\n",
       "      <td>0</td>\n",
       "      <td>0</td>\n",
       "      <td>0</td>\n",
       "      <td>0</td>\n",
       "      <td>0</td>\n",
       "      <td>1</td>\n",
       "      <td>1</td>\n",
       "    </tr>\n",
       "    <tr>\n",
       "      <th>2</th>\n",
       "      <td>0</td>\n",
       "      <td>5</td>\n",
       "      <td>1</td>\n",
       "      <td>4</td>\n",
       "      <td>2</td>\n",
       "      <td>0</td>\n",
       "      <td>10</td>\n",
       "      <td>1</td>\n",
       "      <td>1</td>\n",
       "      <td>1</td>\n",
       "      <td>0</td>\n",
       "      <td>1</td>\n",
       "      <td>1</td>\n",
       "      <td>1</td>\n",
       "    </tr>\n",
       "    <tr>\n",
       "      <th>3</th>\n",
       "      <td>0</td>\n",
       "      <td>3</td>\n",
       "      <td>1</td>\n",
       "      <td>5</td>\n",
       "      <td>3</td>\n",
       "      <td>2</td>\n",
       "      <td>10</td>\n",
       "      <td>0</td>\n",
       "      <td>1</td>\n",
       "      <td>1</td>\n",
       "      <td>1</td>\n",
       "      <td>1</td>\n",
       "      <td>1</td>\n",
       "      <td>1</td>\n",
       "    </tr>\n",
       "    <tr>\n",
       "      <th>4</th>\n",
       "      <td>0</td>\n",
       "      <td>1</td>\n",
       "      <td>5</td>\n",
       "      <td>4</td>\n",
       "      <td>4</td>\n",
       "      <td>8</td>\n",
       "      <td>1</td>\n",
       "      <td>1</td>\n",
       "      <td>1</td>\n",
       "      <td>1</td>\n",
       "      <td>1</td>\n",
       "      <td>0</td>\n",
       "      <td>1</td>\n",
       "      <td>1</td>\n",
       "    </tr>\n",
       "    <tr>\n",
       "      <th>...</th>\n",
       "      <td>...</td>\n",
       "      <td>...</td>\n",
       "      <td>...</td>\n",
       "      <td>...</td>\n",
       "      <td>...</td>\n",
       "      <td>...</td>\n",
       "      <td>...</td>\n",
       "      <td>...</td>\n",
       "      <td>...</td>\n",
       "      <td>...</td>\n",
       "      <td>...</td>\n",
       "      <td>...</td>\n",
       "      <td>...</td>\n",
       "      <td>...</td>\n",
       "    </tr>\n",
       "    <tr>\n",
       "      <th>208</th>\n",
       "      <td>1</td>\n",
       "      <td>0</td>\n",
       "      <td>0</td>\n",
       "      <td>4</td>\n",
       "      <td>0</td>\n",
       "      <td>0</td>\n",
       "      <td>6</td>\n",
       "      <td>0</td>\n",
       "      <td>0</td>\n",
       "      <td>0</td>\n",
       "      <td>0</td>\n",
       "      <td>0</td>\n",
       "      <td>0</td>\n",
       "      <td>0</td>\n",
       "    </tr>\n",
       "    <tr>\n",
       "      <th>209</th>\n",
       "      <td>1</td>\n",
       "      <td>0</td>\n",
       "      <td>0</td>\n",
       "      <td>3</td>\n",
       "      <td>0</td>\n",
       "      <td>0</td>\n",
       "      <td>8</td>\n",
       "      <td>0</td>\n",
       "      <td>0</td>\n",
       "      <td>0</td>\n",
       "      <td>0</td>\n",
       "      <td>0</td>\n",
       "      <td>0</td>\n",
       "      <td>0</td>\n",
       "    </tr>\n",
       "    <tr>\n",
       "      <th>210</th>\n",
       "      <td>1</td>\n",
       "      <td>0</td>\n",
       "      <td>0</td>\n",
       "      <td>2</td>\n",
       "      <td>0</td>\n",
       "      <td>0</td>\n",
       "      <td>10</td>\n",
       "      <td>0</td>\n",
       "      <td>0</td>\n",
       "      <td>0</td>\n",
       "      <td>0</td>\n",
       "      <td>0</td>\n",
       "      <td>0</td>\n",
       "      <td>0</td>\n",
       "    </tr>\n",
       "    <tr>\n",
       "      <th>211</th>\n",
       "      <td>1</td>\n",
       "      <td>0</td>\n",
       "      <td>0</td>\n",
       "      <td>1</td>\n",
       "      <td>0</td>\n",
       "      <td>0</td>\n",
       "      <td>7</td>\n",
       "      <td>0</td>\n",
       "      <td>0</td>\n",
       "      <td>0</td>\n",
       "      <td>0</td>\n",
       "      <td>0</td>\n",
       "      <td>0</td>\n",
       "      <td>0</td>\n",
       "    </tr>\n",
       "    <tr>\n",
       "      <th>212</th>\n",
       "      <td>1</td>\n",
       "      <td>0</td>\n",
       "      <td>0</td>\n",
       "      <td>8</td>\n",
       "      <td>0</td>\n",
       "      <td>0</td>\n",
       "      <td>6</td>\n",
       "      <td>0</td>\n",
       "      <td>0</td>\n",
       "      <td>0</td>\n",
       "      <td>0</td>\n",
       "      <td>0</td>\n",
       "      <td>0</td>\n",
       "      <td>0</td>\n",
       "    </tr>\n",
       "  </tbody>\n",
       "</table>\n",
       "<p>213 rows × 14 columns</p>\n",
       "</div>"
      ],
      "text/plain": [
       "     Gender  financial_issues  family_issues  study_hours  health_issues  \\\n",
       "0         0                 5              1            2             90   \n",
       "1         0                 4              1            2              1   \n",
       "2         0                 5              1            4              2   \n",
       "3         0                 3              1            5              3   \n",
       "4         0                 1              5            4              4   \n",
       "..      ...               ...            ...          ...            ...   \n",
       "208       1                 0              0            4              0   \n",
       "209       1                 0              0            3              0   \n",
       "210       1                 0              0            2              0   \n",
       "211       1                 0              0            1              0   \n",
       "212       1                 0              0            8              0   \n",
       "\n",
       "     friends_issues  friends_time  overload  unpleasant  academic  career  \\\n",
       "0                 0             5         0           1         1       1   \n",
       "1                 2             1         0           0         0       0   \n",
       "2                 0            10         1           1         1       0   \n",
       "3                 2            10         0           1         1       1   \n",
       "4                 8             1         1           1         1       1   \n",
       "..              ...           ...       ...         ...       ...     ...   \n",
       "208               0             6         0           0         0       0   \n",
       "209               0             8         0           0         0       0   \n",
       "210               0            10         0           0         0       0   \n",
       "211               0             7         0           0         0       0   \n",
       "212               0             6         0           0         0       0   \n",
       "\n",
       "     criticism  conflicts  stress_level  \n",
       "0            1          0             1  \n",
       "1            0          1             1  \n",
       "2            1          1             1  \n",
       "3            1          1             1  \n",
       "4            0          1             1  \n",
       "..         ...        ...           ...  \n",
       "208          0          0             0  \n",
       "209          0          0             0  \n",
       "210          0          0             0  \n",
       "211          0          0             0  \n",
       "212          0          0             0  \n",
       "\n",
       "[213 rows x 14 columns]"
      ]
     },
     "execution_count": 72,
     "metadata": {},
     "output_type": "execute_result"
    }
   ],
   "source": [
    "train"
   ]
  },
  {
   "cell_type": "code",
   "execution_count": 73,
   "metadata": {},
   "outputs": [
    {
     "data": {
      "text/plain": [
       "Gender              int64\n",
       "financial_issues    int64\n",
       "family_issues       int64\n",
       "study_hours         int64\n",
       "health_issues       int64\n",
       "friends_issues      int64\n",
       "friends_time        int64\n",
       "overload            int64\n",
       "unpleasant          int64\n",
       "academic            int64\n",
       "career              int64\n",
       "criticism           int64\n",
       "conflicts           int64\n",
       "stress_level        int64\n",
       "dtype: object"
      ]
     },
     "execution_count": 73,
     "metadata": {},
     "output_type": "execute_result"
    }
   ],
   "source": [
    "train.dtypes"
   ]
  },
  {
   "cell_type": "code",
   "execution_count": 74,
   "metadata": {},
   "outputs": [],
   "source": [
    "y = train['stress_level']\n"
   ]
  },
  {
   "cell_type": "code",
   "execution_count": 75,
   "metadata": {},
   "outputs": [],
   "source": [
    "from collections import Counter"
   ]
  },
  {
   "cell_type": "code",
   "execution_count": 76,
   "metadata": {},
   "outputs": [
    {
     "name": "stdout",
     "output_type": "stream",
     "text": [
      "Classes and number of values in trainset after SMOTE: Counter({0: 81, 1: 67, 2: 65})\n"
     ]
    }
   ],
   "source": [
    "print('Classes and number of values in trainset after SMOTE:',Counter(y))"
   ]
  },
  {
   "cell_type": "code",
   "execution_count": 77,
   "metadata": {},
   "outputs": [
    {
     "data": {
      "text/html": [
       "<div>\n",
       "<style scoped>\n",
       "    .dataframe tbody tr th:only-of-type {\n",
       "        vertical-align: middle;\n",
       "    }\n",
       "\n",
       "    .dataframe tbody tr th {\n",
       "        vertical-align: top;\n",
       "    }\n",
       "\n",
       "    .dataframe thead th {\n",
       "        text-align: right;\n",
       "    }\n",
       "</style>\n",
       "<table border=\"1\" class=\"dataframe\">\n",
       "  <thead>\n",
       "    <tr style=\"text-align: right;\">\n",
       "      <th></th>\n",
       "      <th>Gender</th>\n",
       "      <th>financial_issues</th>\n",
       "      <th>family_issues</th>\n",
       "      <th>study_hours</th>\n",
       "      <th>health_issues</th>\n",
       "      <th>friends_issues</th>\n",
       "      <th>friends_time</th>\n",
       "      <th>overload</th>\n",
       "      <th>unpleasant</th>\n",
       "      <th>academic</th>\n",
       "      <th>career</th>\n",
       "      <th>criticism</th>\n",
       "      <th>conflicts</th>\n",
       "      <th>stress_level</th>\n",
       "    </tr>\n",
       "  </thead>\n",
       "  <tbody>\n",
       "    <tr>\n",
       "      <th>0</th>\n",
       "      <td>0</td>\n",
       "      <td>5</td>\n",
       "      <td>1</td>\n",
       "      <td>2</td>\n",
       "      <td>90</td>\n",
       "      <td>0</td>\n",
       "      <td>5</td>\n",
       "      <td>0</td>\n",
       "      <td>1</td>\n",
       "      <td>1</td>\n",
       "      <td>1</td>\n",
       "      <td>1</td>\n",
       "      <td>0</td>\n",
       "      <td>1</td>\n",
       "    </tr>\n",
       "    <tr>\n",
       "      <th>1</th>\n",
       "      <td>0</td>\n",
       "      <td>4</td>\n",
       "      <td>1</td>\n",
       "      <td>2</td>\n",
       "      <td>1</td>\n",
       "      <td>2</td>\n",
       "      <td>1</td>\n",
       "      <td>0</td>\n",
       "      <td>0</td>\n",
       "      <td>0</td>\n",
       "      <td>0</td>\n",
       "      <td>0</td>\n",
       "      <td>1</td>\n",
       "      <td>1</td>\n",
       "    </tr>\n",
       "    <tr>\n",
       "      <th>2</th>\n",
       "      <td>0</td>\n",
       "      <td>5</td>\n",
       "      <td>1</td>\n",
       "      <td>4</td>\n",
       "      <td>2</td>\n",
       "      <td>0</td>\n",
       "      <td>10</td>\n",
       "      <td>1</td>\n",
       "      <td>1</td>\n",
       "      <td>1</td>\n",
       "      <td>0</td>\n",
       "      <td>1</td>\n",
       "      <td>1</td>\n",
       "      <td>1</td>\n",
       "    </tr>\n",
       "    <tr>\n",
       "      <th>3</th>\n",
       "      <td>0</td>\n",
       "      <td>3</td>\n",
       "      <td>1</td>\n",
       "      <td>5</td>\n",
       "      <td>3</td>\n",
       "      <td>2</td>\n",
       "      <td>10</td>\n",
       "      <td>0</td>\n",
       "      <td>1</td>\n",
       "      <td>1</td>\n",
       "      <td>1</td>\n",
       "      <td>1</td>\n",
       "      <td>1</td>\n",
       "      <td>1</td>\n",
       "    </tr>\n",
       "    <tr>\n",
       "      <th>4</th>\n",
       "      <td>0</td>\n",
       "      <td>1</td>\n",
       "      <td>5</td>\n",
       "      <td>4</td>\n",
       "      <td>4</td>\n",
       "      <td>8</td>\n",
       "      <td>1</td>\n",
       "      <td>1</td>\n",
       "      <td>1</td>\n",
       "      <td>1</td>\n",
       "      <td>1</td>\n",
       "      <td>0</td>\n",
       "      <td>1</td>\n",
       "      <td>1</td>\n",
       "    </tr>\n",
       "    <tr>\n",
       "      <th>...</th>\n",
       "      <td>...</td>\n",
       "      <td>...</td>\n",
       "      <td>...</td>\n",
       "      <td>...</td>\n",
       "      <td>...</td>\n",
       "      <td>...</td>\n",
       "      <td>...</td>\n",
       "      <td>...</td>\n",
       "      <td>...</td>\n",
       "      <td>...</td>\n",
       "      <td>...</td>\n",
       "      <td>...</td>\n",
       "      <td>...</td>\n",
       "      <td>...</td>\n",
       "    </tr>\n",
       "    <tr>\n",
       "      <th>208</th>\n",
       "      <td>1</td>\n",
       "      <td>0</td>\n",
       "      <td>0</td>\n",
       "      <td>4</td>\n",
       "      <td>0</td>\n",
       "      <td>0</td>\n",
       "      <td>6</td>\n",
       "      <td>0</td>\n",
       "      <td>0</td>\n",
       "      <td>0</td>\n",
       "      <td>0</td>\n",
       "      <td>0</td>\n",
       "      <td>0</td>\n",
       "      <td>0</td>\n",
       "    </tr>\n",
       "    <tr>\n",
       "      <th>209</th>\n",
       "      <td>1</td>\n",
       "      <td>0</td>\n",
       "      <td>0</td>\n",
       "      <td>3</td>\n",
       "      <td>0</td>\n",
       "      <td>0</td>\n",
       "      <td>8</td>\n",
       "      <td>0</td>\n",
       "      <td>0</td>\n",
       "      <td>0</td>\n",
       "      <td>0</td>\n",
       "      <td>0</td>\n",
       "      <td>0</td>\n",
       "      <td>0</td>\n",
       "    </tr>\n",
       "    <tr>\n",
       "      <th>210</th>\n",
       "      <td>1</td>\n",
       "      <td>0</td>\n",
       "      <td>0</td>\n",
       "      <td>2</td>\n",
       "      <td>0</td>\n",
       "      <td>0</td>\n",
       "      <td>10</td>\n",
       "      <td>0</td>\n",
       "      <td>0</td>\n",
       "      <td>0</td>\n",
       "      <td>0</td>\n",
       "      <td>0</td>\n",
       "      <td>0</td>\n",
       "      <td>0</td>\n",
       "    </tr>\n",
       "    <tr>\n",
       "      <th>211</th>\n",
       "      <td>1</td>\n",
       "      <td>0</td>\n",
       "      <td>0</td>\n",
       "      <td>1</td>\n",
       "      <td>0</td>\n",
       "      <td>0</td>\n",
       "      <td>7</td>\n",
       "      <td>0</td>\n",
       "      <td>0</td>\n",
       "      <td>0</td>\n",
       "      <td>0</td>\n",
       "      <td>0</td>\n",
       "      <td>0</td>\n",
       "      <td>0</td>\n",
       "    </tr>\n",
       "    <tr>\n",
       "      <th>212</th>\n",
       "      <td>1</td>\n",
       "      <td>0</td>\n",
       "      <td>0</td>\n",
       "      <td>8</td>\n",
       "      <td>0</td>\n",
       "      <td>0</td>\n",
       "      <td>6</td>\n",
       "      <td>0</td>\n",
       "      <td>0</td>\n",
       "      <td>0</td>\n",
       "      <td>0</td>\n",
       "      <td>0</td>\n",
       "      <td>0</td>\n",
       "      <td>0</td>\n",
       "    </tr>\n",
       "  </tbody>\n",
       "</table>\n",
       "<p>213 rows × 14 columns</p>\n",
       "</div>"
      ],
      "text/plain": [
       "     Gender  financial_issues  family_issues  study_hours  health_issues  \\\n",
       "0         0                 5              1            2             90   \n",
       "1         0                 4              1            2              1   \n",
       "2         0                 5              1            4              2   \n",
       "3         0                 3              1            5              3   \n",
       "4         0                 1              5            4              4   \n",
       "..      ...               ...            ...          ...            ...   \n",
       "208       1                 0              0            4              0   \n",
       "209       1                 0              0            3              0   \n",
       "210       1                 0              0            2              0   \n",
       "211       1                 0              0            1              0   \n",
       "212       1                 0              0            8              0   \n",
       "\n",
       "     friends_issues  friends_time  overload  unpleasant  academic  career  \\\n",
       "0                 0             5         0           1         1       1   \n",
       "1                 2             1         0           0         0       0   \n",
       "2                 0            10         1           1         1       0   \n",
       "3                 2            10         0           1         1       1   \n",
       "4                 8             1         1           1         1       1   \n",
       "..              ...           ...       ...         ...       ...     ...   \n",
       "208               0             6         0           0         0       0   \n",
       "209               0             8         0           0         0       0   \n",
       "210               0            10         0           0         0       0   \n",
       "211               0             7         0           0         0       0   \n",
       "212               0             6         0           0         0       0   \n",
       "\n",
       "     criticism  conflicts  stress_level  \n",
       "0            1          0             1  \n",
       "1            0          1             1  \n",
       "2            1          1             1  \n",
       "3            1          1             1  \n",
       "4            0          1             1  \n",
       "..         ...        ...           ...  \n",
       "208          0          0             0  \n",
       "209          0          0             0  \n",
       "210          0          0             0  \n",
       "211          0          0             0  \n",
       "212          0          0             0  \n",
       "\n",
       "[213 rows x 14 columns]"
      ]
     },
     "execution_count": 77,
     "metadata": {},
     "output_type": "execute_result"
    }
   ],
   "source": [
    "train"
   ]
  },
  {
   "cell_type": "code",
   "execution_count": 78,
   "metadata": {},
   "outputs": [],
   "source": [
    "X = train[['Gender','financial_issues','family_issues','study_hours','health_issues','friends_issues','friends_time','overload','unpleasant','academic','career','criticism','conflicts']]"
   ]
  },
  {
   "cell_type": "code",
   "execution_count": 79,
   "metadata": {},
   "outputs": [],
   "source": [
    "from imblearn.over_sampling import SMOTE\n",
    "oversample = SMOTE()"
   ]
  },
  {
   "cell_type": "code",
   "execution_count": 80,
   "metadata": {},
   "outputs": [],
   "source": [
    "X,y = oversample.fit_resample(X,y)\n"
   ]
  },
  {
   "cell_type": "code",
   "execution_count": 81,
   "metadata": {},
   "outputs": [
    {
     "name": "stdout",
     "output_type": "stream",
     "text": [
      "Classes and number of values in trainset after SMOTE: Counter({1: 81, 2: 81, 0: 81})\n"
     ]
    }
   ],
   "source": [
    "print('Classes and number of values in trainset after SMOTE:',Counter(y))"
   ]
  },
  {
   "cell_type": "code",
   "execution_count": 82,
   "metadata": {},
   "outputs": [],
   "source": [
    "from collections import Counter\n",
    "from sklearn.model_selection import train_test_split\n",
    "from sklearn.metrics import confusion_matrix, classification_report, accuracy_score\n",
    "from sklearn.svm import SVC\n",
    "from sklearn.ensemble import RandomForestClassifier"
   ]
  },
  {
   "cell_type": "code",
   "execution_count": 83,
   "metadata": {},
   "outputs": [],
   "source": [
    "X_train, X_test, y_train, y_test = train_test_split(X, y, test_size = 0.3, random_state = 0)"
   ]
  },
  {
   "cell_type": "code",
   "execution_count": 84,
   "metadata": {},
   "outputs": [
    {
     "data": {
      "text/html": [
       "<style>#sk-container-id-1 {color: black;background-color: white;}#sk-container-id-1 pre{padding: 0;}#sk-container-id-1 div.sk-toggleable {background-color: white;}#sk-container-id-1 label.sk-toggleable__label {cursor: pointer;display: block;width: 100%;margin-bottom: 0;padding: 0.3em;box-sizing: border-box;text-align: center;}#sk-container-id-1 label.sk-toggleable__label-arrow:before {content: \"▸\";float: left;margin-right: 0.25em;color: #696969;}#sk-container-id-1 label.sk-toggleable__label-arrow:hover:before {color: black;}#sk-container-id-1 div.sk-estimator:hover label.sk-toggleable__label-arrow:before {color: black;}#sk-container-id-1 div.sk-toggleable__content {max-height: 0;max-width: 0;overflow: hidden;text-align: left;background-color: #f0f8ff;}#sk-container-id-1 div.sk-toggleable__content pre {margin: 0.2em;color: black;border-radius: 0.25em;background-color: #f0f8ff;}#sk-container-id-1 input.sk-toggleable__control:checked~div.sk-toggleable__content {max-height: 200px;max-width: 100%;overflow: auto;}#sk-container-id-1 input.sk-toggleable__control:checked~label.sk-toggleable__label-arrow:before {content: \"▾\";}#sk-container-id-1 div.sk-estimator input.sk-toggleable__control:checked~label.sk-toggleable__label {background-color: #d4ebff;}#sk-container-id-1 div.sk-label input.sk-toggleable__control:checked~label.sk-toggleable__label {background-color: #d4ebff;}#sk-container-id-1 input.sk-hidden--visually {border: 0;clip: rect(1px 1px 1px 1px);clip: rect(1px, 1px, 1px, 1px);height: 1px;margin: -1px;overflow: hidden;padding: 0;position: absolute;width: 1px;}#sk-container-id-1 div.sk-estimator {font-family: monospace;background-color: #f0f8ff;border: 1px dotted black;border-radius: 0.25em;box-sizing: border-box;margin-bottom: 0.5em;}#sk-container-id-1 div.sk-estimator:hover {background-color: #d4ebff;}#sk-container-id-1 div.sk-parallel-item::after {content: \"\";width: 100%;border-bottom: 1px solid gray;flex-grow: 1;}#sk-container-id-1 div.sk-label:hover label.sk-toggleable__label {background-color: #d4ebff;}#sk-container-id-1 div.sk-serial::before {content: \"\";position: absolute;border-left: 1px solid gray;box-sizing: border-box;top: 0;bottom: 0;left: 50%;z-index: 0;}#sk-container-id-1 div.sk-serial {display: flex;flex-direction: column;align-items: center;background-color: white;padding-right: 0.2em;padding-left: 0.2em;position: relative;}#sk-container-id-1 div.sk-item {position: relative;z-index: 1;}#sk-container-id-1 div.sk-parallel {display: flex;align-items: stretch;justify-content: center;background-color: white;position: relative;}#sk-container-id-1 div.sk-item::before, #sk-container-id-1 div.sk-parallel-item::before {content: \"\";position: absolute;border-left: 1px solid gray;box-sizing: border-box;top: 0;bottom: 0;left: 50%;z-index: -1;}#sk-container-id-1 div.sk-parallel-item {display: flex;flex-direction: column;z-index: 1;position: relative;background-color: white;}#sk-container-id-1 div.sk-parallel-item:first-child::after {align-self: flex-end;width: 50%;}#sk-container-id-1 div.sk-parallel-item:last-child::after {align-self: flex-start;width: 50%;}#sk-container-id-1 div.sk-parallel-item:only-child::after {width: 0;}#sk-container-id-1 div.sk-dashed-wrapped {border: 1px dashed gray;margin: 0 0.4em 0.5em 0.4em;box-sizing: border-box;padding-bottom: 0.4em;background-color: white;}#sk-container-id-1 div.sk-label label {font-family: monospace;font-weight: bold;display: inline-block;line-height: 1.2em;}#sk-container-id-1 div.sk-label-container {text-align: center;}#sk-container-id-1 div.sk-container {/* jupyter's `normalize.less` sets `[hidden] { display: none; }` but bootstrap.min.css set `[hidden] { display: none !important; }` so we also need the `!important` here to be able to override the default hidden behavior on the sphinx rendered scikit-learn.org. See: https://github.com/scikit-learn/scikit-learn/issues/21755 */display: inline-block !important;position: relative;}#sk-container-id-1 div.sk-text-repr-fallback {display: none;}</style><div id=\"sk-container-id-1\" class=\"sk-top-container\"><div class=\"sk-text-repr-fallback\"><pre>RandomForestClassifier(n_estimators=40, random_state=23)</pre><b>In a Jupyter environment, please rerun this cell to show the HTML representation or trust the notebook. <br />On GitHub, the HTML representation is unable to render, please try loading this page with nbviewer.org.</b></div><div class=\"sk-container\" hidden><div class=\"sk-item\"><div class=\"sk-estimator sk-toggleable\"><input class=\"sk-toggleable__control sk-hidden--visually\" id=\"sk-estimator-id-1\" type=\"checkbox\" checked><label for=\"sk-estimator-id-1\" class=\"sk-toggleable__label sk-toggleable__label-arrow\">RandomForestClassifier</label><div class=\"sk-toggleable__content\"><pre>RandomForestClassifier(n_estimators=40, random_state=23)</pre></div></div></div></div></div>"
      ],
      "text/plain": [
       "RandomForestClassifier(n_estimators=40, random_state=23)"
      ]
     },
     "execution_count": 84,
     "metadata": {},
     "output_type": "execute_result"
    }
   ],
   "source": [
    "rf = RandomForestClassifier(n_estimators=40, random_state=23)\n",
    "rf.fit(X_train, y_train)"
   ]
  },
  {
   "cell_type": "code",
   "execution_count": 85,
   "metadata": {},
   "outputs": [
    {
     "data": {
      "text/plain": [
       "1.0"
      ]
     },
     "execution_count": 85,
     "metadata": {},
     "output_type": "execute_result"
    }
   ],
   "source": [
    "rf.score(X_train, y_train)"
   ]
  },
  {
   "cell_type": "code",
   "execution_count": 86,
   "metadata": {},
   "outputs": [
    {
     "data": {
      "text/plain": [
       "0.9315068493150684"
      ]
     },
     "execution_count": 86,
     "metadata": {},
     "output_type": "execute_result"
    }
   ],
   "source": [
    "from sklearn.metrics import accuracy_score\n",
    "y_pred = rf.predict(X_test )\n",
    "accuracy_score(y_pred,y_test) "
   ]
  },
  {
   "cell_type": "code",
   "execution_count": 87,
   "metadata": {},
   "outputs": [],
   "source": [
    "import sklearn.metrics"
   ]
  },
  {
   "cell_type": "code",
   "execution_count": 88,
   "metadata": {},
   "outputs": [
    {
     "name": "stdout",
     "output_type": "stream",
     "text": [
      "              precision    recall  f1-score   support\n",
      "\n",
      "           0       1.00      1.00      1.00        26\n",
      "           1       0.84      0.95      0.89        22\n",
      "           2       0.95      0.84      0.89        25\n",
      "\n",
      "    accuracy                           0.93        73\n",
      "   macro avg       0.93      0.93      0.93        73\n",
      "weighted avg       0.94      0.93      0.93        73\n",
      "\n"
     ]
    }
   ],
   "source": [
    "print(sklearn.metrics.classification_report(y_test, y_pred))"
   ]
  },
  {
   "cell_type": "code",
   "execution_count": 89,
   "metadata": {},
   "outputs": [
    {
     "data": {
      "text/plain": [
       "array([[26,  0,  0],\n",
       "       [ 0, 21,  1],\n",
       "       [ 0,  4, 21]], dtype=int64)"
      ]
     },
     "execution_count": 89,
     "metadata": {},
     "output_type": "execute_result"
    }
   ],
   "source": [
    "y_pred = rf.predict(X_test )\n",
    "y_true=y_test\n",
    "\n",
    "\n",
    "from sklearn.metrics import confusion_matrix\n",
    "cm=confusion_matrix(y_true,y_pred)\n",
    "cm"
   ]
  },
  {
   "cell_type": "code",
   "execution_count": 90,
   "metadata": {},
   "outputs": [
    {
     "data": {
      "image/png": "[encoded data removed]",
      "text/plain": [
       "<Figure size 360x360 with 2 Axes>"
      ]
     },
     "metadata": {
      "needs_background": "light"
     },
     "output_type": "display_data"
    }
   ],
   "source": [
    "import seaborn as sns\n",
    "import matplotlib.pyplot as plt\n",
    "\n",
    "f, ax=plt.subplots(figsize=(5,5))\n",
    "sns.heatmap(cm,annot=True,linewidths=0.5,linecolor=\"red\",fmt=\".0f\",ax=ax)\n",
    "plt.xlabel(\"y_pred\")\n",
    "plt.ylabel(\"y_true\")\n",
    "plt.show()"
   ]
  },
  {
   "cell_type": "code",
   "execution_count": 86,
   "metadata": {},
   "outputs": [],
   "source": [
    "import pickle\n",
    "\n",
    "pickle.dump(rf,open('stress.pkl','wb'))\n",
    "stress = pickle.load(open('stress.pkl','rb'))"
   ]
  },
  {
   "cell_type": "code",
   "execution_count": null,
   "metadata": {},
   "outputs": [],
   "source": []
  }
 ],
 "metadata": {
  "kernelspec": {
   "display_name": "Python 3 (ipykernel)",
   "language": "python",
   "name": "python3"
  },
  "language_info": {
   "codemirror_mode": {
    "name": "ipython",
    "version": 3
   },
   "file_extension": ".py",
   "mimetype": "text/x-python",
   "name": "python",
   "nbconvert_exporter": "python",
   "pygments_lexer": "ipython3",
   "version": "3.9.12"
  }
 },
 "nbformat": 4,
 "nbformat_minor": 4
}
